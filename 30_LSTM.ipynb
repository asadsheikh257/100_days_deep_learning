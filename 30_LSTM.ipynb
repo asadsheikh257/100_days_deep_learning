{
  "nbformat": 4,
  "nbformat_minor": 0,
  "metadata": {
    "colab": {
      "provenance": [],
      "gpuType": "T4"
    },
    "kernelspec": {
      "name": "python3",
      "display_name": "Python 3"
    },
    "language_info": {
      "name": "python"
    },
    "accelerator": "GPU"
  },
  "cells": [
    {
      "cell_type": "markdown",
      "source": [
        "# LSTM Model for Learning Purposes\n",
        "\n",
        "This notebook demonstrates the use of a **Long Short-Term Memory (LSTM)** model for a basic text processing task. The model is created for **learning purposes** and **educational demonstrations**, not for achieving high-level performance or production deployment.\n",
        "\n",
        "## Model Overview\n",
        "\n",
        "- **Task**: The model is built to perform Next Word Predictor.\n",
        "- **Model**: The model architecture consists of an **Embedding** layer, followed by an **LSTM** layer, and a **Dense** output layer with a **softmax** activation.\n",
        "- **Dataset**: The dataset is small and may not be suitable for training a high-quality model. The model is more focused on demonstrating the basic structure and flow of working with LSTM networks.\n",
        "\n",
        "## Key Observations\n",
        "\n",
        "- **Overfitting**: As expected with small datasets, the model shows signs of **overfitting** where the training accuracy is much higher than the validation accuracy. The model performs well on the training set but struggles to generalize to the validation set.\n",
        "  \n",
        "- **Validation Accuracy**: The validation accuracy is low, and the validation loss is high, which is expected due to the small dataset and limited data diversity.\n",
        "\n",
        "## Important Notes\n",
        "\n",
        "- **Learning Focus**: This notebook is intended for beginners who are learning about LSTM networks and the Keras/TensorFlow API. The goal is to understand how to build, compile, and train an LSTM model for sequential data tasks.\n",
        "  \n",
        "- **Not for Production**: This model is **not optimized** for production use or real-world applications. The model architecture, hyperparameters, and training process can be adjusted and improved further when working with larger and more balanced datasets.\n",
        "\n",
        "- **Data Size**: The size of the data used is small, and more data would be needed to achieve better performance and generalization.\n",
        "\n",
        "- **Next Steps**: Once you are comfortable with the basics of LSTM networks, you can:\n",
        "  - Experiment with larger datasets.\n",
        "  - Try more advanced techniques such as **Bidirectional LSTM**, **attention mechanisms**, or **pre-trained embeddings**.\n",
        "  - Work on improving model regularization (e.g., adding **Dropout**, **L2 regularization**) to prevent overfitting.\n",
        "  - Explore hyperparameter tuning and model optimization techniques.\n",
        "\n",
        "## Conclusion\n",
        "\n",
        "This notebook serves as a simple introduction to working with LSTM models. It is important to remember that training a high-performing model requires careful data preprocessing, tuning, and experimenting with various architectures, and larger datasets. As a beginner, focus on understanding the basics of model architecture and training cycles before moving on to more complex tasks.\n",
        "\n",
        "---\n",
        "\n",
        "Happy learning and experimenting with LSTM models! 🚀\n"
      ],
      "metadata": {
        "id": "5QKAb0ZJPT5i"
      }
    },
    {
      "cell_type": "code",
      "source": [
        "import pandas as pd\n",
        "import numpy as np"
      ],
      "metadata": {
        "id": "0a8LWww-6eaW"
      },
      "execution_count": 76,
      "outputs": []
    },
    {
      "cell_type": "code",
      "source": [
        "# Load text file\n",
        "with open(\"/content/Deep Learning Curriculum.txt\", \"r\") as file:\n",
        "    text = file.read()\n",
        "\n"
      ],
      "metadata": {
        "id": "MQ0DFIvh6hFd"
      },
      "execution_count": 127,
      "outputs": []
    },
    {
      "cell_type": "code",
      "source": [
        "text"
      ],
      "metadata": {
        "colab": {
          "base_uri": "https://localhost:8080/",
          "height": 140
        },
        "id": "ZMIlBKjq61Yv",
        "outputId": "8e643ab3-f442-4480-a00e-0fd139484bab"
      },
      "execution_count": 128,
      "outputs": [
        {
          "output_type": "execute_result",
          "data": {
            "text/plain": [
              "'CampusX Deep Learning Curriculum\\nA. Artificial Neural Network and how to improve them\\n1. Biological Inspiration\\n●\\n\\nUnderstanding the neuron structure\\n\\n●\\n\\nSynapses and signal transmission\\n\\n●\\n\\nHow biological concepts translate to artificial neurons\\n\\n2. History of Neural Networks\\n●\\n\\nEarly models (Perceptron)\\n\\n●\\n\\nBackpropagation and MLPs\\n\\n●\\n\\nThe \"AI Winter\" and resurgence of neural networks\\n\\n●\\n\\nEmergence of deep learning\\n\\n3. Perceptron and Multilayer Perceptrons (MLP)\\n●\\n\\nSingle-layer perceptron limitations\\n\\n●\\n\\nXOR problem and the need for hidden layers\\n\\n●\\n\\nMLP architecture\\n\\n4. Layers and Their Functions\\n●\\n\\nInput Layer\\n○\\n\\n●\\n\\nHidden Layers\\n○\\n\\n●\\n\\nAccepting input data\\nFeature extraction\\n\\nOutput Layer\\n○\\n\\nProducing final predictions\\n\\n5. Activation Functions\\n\\n\\x0c●\\n\\nSigmoid Function\\n○\\n\\n●\\n\\nHyperbolic Tangent (tanh)\\n○\\n\\n●\\n\\nAdvantages in mitigating vanishing gradients\\n\\nLeaky ReLU and Parametric ReLU\\n○\\n\\n●\\n\\nComparison with sigmoid\\n\\nReLU (Rectified Linear Unit)\\n○\\n\\n●\\n\\nCharacteristics and limitations\\n\\nAddressing the dying ReLU problem\\n\\nSoftmax Function\\n○\\n\\nMulti-class classification outputs\\n\\n6. Forward Propagation\\n●\\n\\nMathematical computations at each neuron\\n\\n●\\n\\nPassing inputs through the network to generate outputs\\n\\n7. Loss Functions\\n●\\n\\nMean Squared Error (MSE)\\n○\\n\\n●\\n\\nCross-Entropy Loss\\n○\\n\\n●\\n\\nUsed in classification tasks\\n\\nHinge Loss\\n○\\n\\n●\\n\\nUsed in regression tasks\\n\\nUsed with SVMs\\n\\nSelecting appropriate loss functions based on tasks\\n\\n8. Backpropagation\\n●\\n\\nDerivation using the chain rule\\n\\n●\\n\\nComputing gradients for each layer\\n\\n●\\n\\nUpdating weights and biases\\n\\n●\\n\\nUnderstanding computational graphs\\n\\n9. Gradient Descent Variants\\n●\\n\\nBatch Gradient Descent\\n○\\n\\nPros and cons\\n\\n\\x0c●\\n\\nStochastic Gradient Descent (SGD)\\n○\\n\\n●\\n\\nAdvantages in large datasets\\n\\nMini-Batch Gradient Descent\\n○\\n\\nBalancing between batch and SGD\\n\\n10. Optimization Algorithms\\n●\\n\\nMomentum\\n○\\n\\n●\\n\\nNesterov Accelerated Gradient\\n○\\n\\n●\\n\\nAdaptive learning rates\\n\\nRMSProp\\n○\\n\\n●\\n\\nLooking ahead to the future position\\n\\nAdaGrad\\n○\\n\\n●\\n\\nAccelerating SGD\\n\\nFixing AdaGrad\\'s diminishing learning rates\\n\\nAdam\\n○\\n\\nCombining momentum and RMSProp\\n\\n11. Regularization Techniques\\n●\\n\\nL1 and L2 Regularization\\n○\\n\\n●\\n\\nDropout\\n○\\n\\n●\\n\\nAdding penalty terms to the loss function\\nPreventing overfitting by randomly dropping neurons\\n\\nEarly Stopping\\n○\\n\\nHalting training when validation loss increases\\n\\n12. Hyperparameter Tuning\\n●\\n\\nLearning Rate\\n○\\n\\n●\\n\\nBatch Size\\n○\\n\\n●\\n\\nTrade-offs between speed and stability\\n\\nNumber of Epochs\\n○\\n\\n●\\n\\nImpact on convergence\\n\\nAvoiding overfitting\\n\\nNetwork Architecture\\n\\n\\x0c○\\n●\\n\\nDeciding depth and width\\n\\nTechniques:\\n○\\n\\nGrid search\\n\\n○\\n\\nRandom Search\\n\\n○\\n\\nBayesian optimization\\n\\n13. Vanishing and Exploding Gradients\\n●\\n\\nProblems in deep networks\\n\\n●\\n\\nSolutions:\\n○\\n\\nProper weight initialization\\n\\n○\\n\\nUse of ReLU activation functions\\n\\n14. Weight Initialization Strategies\\n●\\n\\nXavier/Glorot Initialization\\n\\n●\\n\\nHe Initialization\\n\\n15. Batch Normalization\\n●\\n\\nNormalizing inputs of each layer\\n\\n●\\n\\nAccelerating training\\n\\n●\\n\\nReducing dependence on initialization\\n\\nB. Convolution Neural Networks\\n1. Challenges with MLPs for Image Data\\n●\\n\\nHigh dimensionality\\n\\n●\\n\\nLack of spatial invariance\\n\\n2. Advantages of CNNs\\n●\\n\\nParameter sharing\\n\\n●\\n\\nLocal connectivity\\n\\n\\x0c3. Convolution Operation\\n●\\n\\n●\\n\\nUnderstanding Kernels/Filters\\n○\\n\\nEdge detection filters\\n\\n○\\n\\nFeature extraction\\n\\nMathematical Representation\\n○\\n\\n●\\n\\nHyperparameters\\n○\\n\\n●\\n\\nConvolution in 2D and 3D\\nKernel size, depth\\n\\nStride and Padding\\n○\\n\\nControlling output dimensions\\n\\n○\\n\\nTypes of padding: same vs. valid\\n\\n4. Activation Functions\\n●\\n\\nReLU (Rectified Linear Unit)\\n○\\n\\n●\\n\\nAdvantages over sigmoid/tanh\\n\\nVariants\\n○\\n\\nLeaky ReLU\\n\\n○\\n\\nELU (Exponential Linear Unit)\\n\\n5. Pooling Layers\\n●\\n\\n●\\n\\n●\\n\\nPurpose\\n○\\n\\nDimensionality reduction\\n\\n○\\n\\nTranslation invariance\\n\\nTypes of Pooling\\n○\\n\\nMax pooling\\n\\n○\\n\\nAverage pooling\\n\\nPooling Size and Stride\\n\\n6. Fully Connected Layers\\n●\\n\\nTransition from Convolutional Layers\\n\\n●\\n\\nFlattening\\n○\\n\\nConverting 2D features to 1D\\n\\n\\x0c7. Loss Functions\\n●\\n\\nCross-Entropy Loss for Classification\\n\\n●\\n\\nMean Squared Error for Regression\\n\\n8. CNN Architecture\\nLayer Stacking\\n●\\n\\nConvolutional -> Activation -> Pooling\\n\\nFeature Maps\\n●\\n\\nUnderstanding depth and channels\\n\\nVisualization\\n●\\n\\nInterpreting learned features\\n\\n9. Data Preprocessing Techniques - Data Normalization\\n●\\n\\nScaling Pixel Values\\n○\\n\\n0-1 normalization\\n\\n○\\n\\nStandardization (z-score)\\n\\n10. Data Preprocessing Techniques -Data Augmentation\\n●\\n\\n●\\n\\nTechniques\\n○\\n\\nRotation, flipping, cropping\\n\\n○\\n\\nColor jitter, noise addition\\n\\nPurpose\\n○\\n\\nReducing overfitting\\n\\n○\\n\\nIncreasing dataset diversity\\n\\nCNN Architectures and Innovations\\n11. LeNet-5\\n●\\n\\nArchitecture Details\\n\\n\\x0c○\\n●\\n\\nLayers, activations\\n\\nContributions\\n○\\n\\nHandwritten digit recognition\\n\\n12. AlexNet\\n●\\n\\n●\\n\\nBreakthroughs\\n○\\n\\nDeeper network\\n\\n○\\n\\nUse of ReLU\\n\\nImpact on ImageNet Challenge\\n\\n13. VGG Networks\\n●\\n\\nVGG-16 and VGG-19\\n\\n●\\n\\nDesign Philosophy\\n○\\n\\nUsing small filters (3x3)\\n\\n○\\n\\nDeep but uniform architecture\\n\\n14. Inception Networks (GoogLeNet)\\n●\\n\\nInception Modules\\n○\\n\\n●\\n\\nParallel convolutional layers\\n\\nMotivation\\n○\\n\\nEfficient computation\\n\\n15. ResNet (Residual Networks)\\n●\\n\\nResidual Blocks\\n○\\n\\nIdentity mappings\\n\\n○\\n\\nShortcut connections\\n\\n●\\n\\nSolving Vanishing Gradient Problem\\n\\n●\\n\\nVariants\\n○\\n\\nResNet-50, ResNet-101\\n\\n16. MobileNets\\n●\\n\\nDepthwise Separable Convolutions\\n\\n\\x0c●\\n\\nOptimizations for Mobile Devices\\n\\n17. Pre-trained Models & Transfer Learning\\n●\\n\\nUsing Models Trained on ImageNet\\n\\n●\\n\\nFine-Tuning vs. Feature Extraction\\n\\nObject Detection and Localization [Optional]\\n18. Traditional Methods\\n●\\n\\nSliding Window Approach\\n\\n19. Modern Architecture\\n●\\n\\nRegion-Based CNNs (R-CNN)\\n○\\n\\nR-CNN\\n\\n○\\n\\nFast R-CNN\\n\\n○\\n\\nFaster R-CNN\\n\\n●\\n\\nYou Only Look Once (YOLO)\\n\\n●\\n\\nSingle Shot MultiBox Detector (SSD)\\n\\n●\\n\\nMask R-CNN\\n○\\n\\nInstance segmentation\\n\\nSemantic Segmentation\\n20. Fully Convolutional Networks (FCN)\\n●\\n\\nReplacing Fully Connected Layers\\n\\n21. U-Net\\n●\\n\\nEncoder-Decoder Architecture\\n\\n●\\n\\nSkip Connections\\n\\nGenerative Models with CNNs\\n22. Autoencoders\\n\\n\\x0c●\\n\\nConvolutional Autoencoders\\n○\\n\\n●\\n\\nImage reconstruction\\n\\nVariational Autoencoders (VAE)\\n\\n23. Generative Adversarial Networks (GANs)\\n●\\n\\nDCGAN\\n○\\n\\n●\\n\\nUsing CNNs in GANs\\n\\nApplications\\n○\\n\\nImage generation\\n\\n○\\n\\nSuper-resolution\\n\\nC. Recurrent Neural Networks\\n\\n1. Architecture of RNNs\\n●\\n\\nSequential Data Challenges\\n\\n●\\n\\nBasic RNN Structure\\n\\n●\\n\\nMathematical Formulation\\n\\n●\\n\\nActivation Functions\\n\\n2. Forward Propagation Through Time\\n●\\n\\nSequence Input Processing\\n○\\n\\n●\\n\\nHandling variable-length sequences\\n\\nOutput Generation\\n○\\n\\nAt each time step or after the entire sequence\\n\\n3. Backpropagation Through Time (BPTT)\\n●\\n\\nUnfolding the RNN\\n○\\n\\n●\\n\\nCalculating Gradients\\n○\\n\\n●\\n\\nTreating RNN as a deep network over time\\nApplying the chain rule through time steps\\n\\nComputational Complexity\\n○\\n\\nMemory and computation considerations\\n\\n\\x0c4. Challenges in Training RNNs\\n●\\n\\nVanishing Gradients\\n○\\n\\n●\\n\\nExploding Gradients\\n○\\n\\n●\\n\\nGradients diminish over long sequences\\nGradients grow exponentially\\n\\nSolutions\\n○\\n\\nGradient clipping\\n\\n○\\n\\nAdvanced architectures (e.g., LSTMs, GRUs)\\n\\n5. LSTM\\n●\\n\\nLSTM core components\\n\\n●\\n\\nGates in LSTM\\n\\n●\\n\\nIntuition Behind LSTMs\\n\\n●\\n\\nBackpropagation Through Time\\n\\n6. GRU\\n○\\n\\nGRU core components\\n\\n○\\n\\nGates in GRU\\n\\n○\\n\\nIntuition Behind GRU\\n\\n○\\n\\nBackpropagation in GRUs\\n\\n○\\n\\nGRU vs LSTM\\n\\n6. Deep RNNs\\n○\\n\\nStacking RNN layers\\n\\n○\\n\\nVanishing and Exploding Gradients in Deep RNNs\\n\\n○\\n\\nUsing LSTM and GRU\\n\\n○\\n\\nSolution and techniques to overcome VGP and EGP\\n\\n○\\n\\nResidual Connections\\n\\n○\\n\\nRegularization\\n\\n7. Bidirectional RNNs\\n○\\n\\nMotivation behind Bidirectional RNNs\\n\\n\\x0c○\\n\\nBidirectional RNN architecture\\n\\n○\\n\\nForward and Backward pass\\n\\n○\\n\\nCombining outputs\\n\\n○\\n\\nBidirectional LSTM\\n\\n8. Applications of RNNs\\n○\\n\\nLanguage modeling - Next word prediction\\n\\n○\\n\\nSentiment Analysis\\n\\n○\\n\\nPOS Tagging\\n\\n○\\n\\nTime series forecasting\\n\\nSeq2Seq Networks\\n\\n1. Encoder-Decoder Networks\\nA. Introduction to Encoder-Decoder Architecture\\n●\\n\\nPurpose and Motivation\\n○\\n\\nHandling variable-length input and output sequences.\\n\\n○\\n\\nEssential for tasks like machine translation, text summarization, and\\nspeech recognition.\\n\\nB. Components of Encoder-Decoder Networks\\n●\\n\\nEncoder\\n○\\n\\nProcesses the input sequence and encodes it into a fixed-length\\ncontext vector.\\n\\n○\\n\\nArchitecture: Typically uses Recurrent Neural Networks (RNNs), Long\\nShort-Term Memory (LSTM), or Gated Recurrent Units (GRUs).\\n\\n\\x0c●\\n\\nDecoder\\n○\\n\\nGenerates the output sequence from the context vector.\\n\\n○\\n\\nArchitecture: Similar to the encoder but focuses on producing outputs.\\n\\nC. Mathematical Formulation\\n●\\n\\nEncoder and Decoder Equations\\n\\nD. Implementation Details\\n●\\n\\n●\\n\\nHandling Variable-Length Sequences\\n○\\n\\nPadding: Adding zeros to sequences to ensure uniform length.\\n\\n○\\n\\nMasking: Ignoring padded elements during computation.\\n\\nLoss Functions\\n○\\n\\nCross-Entropy Loss: Commonly used for classification tasks at each\\ntime step.\\n\\n●\\n\\nTraining Techniques\\n○\\n\\nTeacher Forcing: Using the actual output as the next input during\\ntraining to speed up convergence.\\n\\nE. Limitations of Basic Encoder-Decoder Models\\n●\\n\\nFixed-Length Context Vector Bottleneck\\n○\\n\\nDifficulty in capturing all necessary information from long input\\nsequences.\\n\\n●\\n\\nSolution Overview\\n○\\n\\nIntroduction of attention mechanisms to allow the model to focus on\\nrelevant parts of the input sequence.\\n\\n2. Attention Mechanisms and Their Types\\nA. Motivation for Attention\\n\\n\\x0c●\\n\\nOvercoming the Bottleneck\\n○\\n\\nAttention allows the model to access all encoder hidden states rather\\nthan compressing all information into a single context vector.\\n\\n●\\n\\nBenefits\\n○\\n\\nImproved performance on long sequences.\\n\\n○\\n\\nEnhanced ability to capture alignment between input and output\\nsequences.\\n\\nB. Types of Attention Mechanisms\\n1. Additive Attention (Bahdanau Attention)\\n●\\n\\nConcept\\n○\\n\\n●\\n\\nCalculates alignment scores using a feedforward network\\n\\nCharacteristics\\n○\\n\\nConsidered more computationally intensive due to additional\\nparameters.\\n\\n2. Multiplicative Attention (Luong Attention)\\n●\\n\\n●\\n\\nConcept\\n○\\n\\nCalculates alignment scores using dot products.\\n\\n○\\n\\nScaled Dot Product: Adjusts for dimensionality.\\n\\nCharacteristics\\n○\\n\\nMore efficient than additive attention.\\n\\nC. Attention Mechanism Steps\\n1.\\n\\nCalculate Alignment Scores\\n\\n2. Compute Attention Weights\\n3. Compute Context Vector\\n4. Update Decoder State\\n\\nD. Implementing Attention in Seq2Seq Models\\n●\\n\\nIntegration with Decoder\\n\\n\\x0c○\\n●\\n\\nModify the decoder to incorporate the context vector at each time step.\\n\\nTraining Adjustments\\n○\\n\\nBackpropagate through the attention mechanism.\\n\\nE. Visualization and Interpretation\\n●\\n\\nAttention Weights Matrix\\n○\\n\\nVisualizing which input tokens the model attends to during each output\\ngeneration step.\\n\\n●\\n\\nApplications\\n○\\n\\nError analysis.\\n\\n○\\n\\nModel interpretability.\\n\\n3. Transformer Architectures\\nA. Limitations of RNN-Based Seq2Seq Models\\n●\\n\\nSequential Processing\\n○\\n\\n●\\n\\nRNNs process inputs sequentially, hindering parallelization.\\n\\nLong-Term Dependencies\\n○\\n\\nDifficulty in capturing relationships between distant tokens.\\n\\nB. Introduction to Transformers\\n●\\n\\nKey Innovations\\n○\\n\\nSelf-Attention Mechanism: Allows the model to relate different\\npositions of a single sequence to compute representations.\\n\\n○\\n\\nPositional Encoding: Injects information about the position of the tokens\\nin the sequence.\\n\\n●\\n\\nAdvantages\\n○\\n\\nImproved parallelization.\\n\\n○\\n\\nBetter at capturing global dependencies.\\n\\n\\x0cC. Components of Transformer Architecture\\n1. Multi-Head Self-Attention\\n●\\n\\nConcept\\n○\\n\\n●\\n\\nMultiple attention mechanisms (heads) operating in parallel.\\n\\nProcess\\n○\\n\\nQuery (Q), Key (K), and Value (V) matrices are computed from input\\nembeddings.\\n\\n○\\n\\nThe attention mechanism calculates a weighted sum of the values, with\\nweights derived from the queries and keys.\\n\\n2. Positional Encoding\\n●\\n\\nPurpose\\n○\\n\\nSince transformers do not have recurrence or convolution, positional\\nencoding provides the model with information about the position of\\neach token.\\n\\n●\\n\\nTechniques\\n○\\n\\nSinusoidal Functions:\\n\\n○\\n\\nLearned Embeddings\\n\\n3. Feedforward Networks\\n●\\n\\nArchitecture\\n○\\n\\nPosition-wise fully connected layers applied independently to each\\nposition.\\n\\n●\\n\\nActivation Functions\\n○\\n\\nTypically ReLU or GELU.\\n\\n4. Layer Normalization\\n●\\n\\nPurpose\\n○\\n\\nNormalizes inputs across the features to stabilize and accelerate\\ntraining.\\n\\n5. Residual Connections\\n\\n\\x0c●\\n\\nPurpose\\n○\\n\\nHelps in training deeper networks by mitigating the vanishing gradient\\nproblem.\\n\\n●\\n\\nImplementation\\n○\\n\\nAdding the input of a layer to its output before applying the activation\\nfunction.\\n\\nD. Transformer Encoder-Decoder Structure\\n●\\n\\nEncoder Stack\\n○\\n\\n●\\n\\nComposed of multiple identical layers, each containing:\\n■\\n\\nMulti-head self-attention layer.\\n\\n■\\n\\nFeedforward network.\\n\\nDecoder Stack\\n○\\n\\nSimilar to the encoder but includes:\\n■\\n\\nMasked multi-head self-attention layer to prevent positions from\\nattending to subsequent positions.\\n\\n■\\n\\nEncoder-decoder attention layer.\\n\\nE. Implementing Transformers\\n●\\n\\nKey Steps\\n○\\n\\nEmbedding Layer: Converts input tokens into dense vectors.\\n\\n○\\n\\nAdding Positional Encoding: Combines positional information with\\nembeddings.\\n\\n○\\n\\nBuilding Encoder and Decoder Layers: Stack multiple layers as per the\\narchitecture.\\n\\n○\\n\\nOutput Layer: Generates final predictions, often followed by a softmax\\nfunction.\\n\\n4. Types of Transformers\\nA. BERT (Bidirectional Encoder Representations from Transformers)\\n\\n\\x0c●\\n\\nPurpose\\n○\\n\\nPre-training deep bidirectional representations by jointly conditioning\\non both left and right context.\\n\\n●\\n\\nArchitecture\\n○\\n\\n●\\n\\nUses only the encoder part of the transformer.\\n\\nPre-Training Objectives\\n○\\n\\nMasked Language Modeling (MLM): Predicting masked tokens in the\\ninput.\\n\\n○\\n\\nNext Sentence Prediction (NSP): Predicting if two sentences follow each\\nother.\\n\\nB. GPT (Generative Pre-trained Transformer)\\n●\\n\\nPurpose\\n○\\n\\n●\\n\\nFocused on language generation tasks.\\n\\nArchitecture\\n○\\n\\nUses only the decoder part of the transformer with masked\\nself-attention to prevent information flow from future tokens.\\n\\n●\\n\\nTraining Objective\\n○\\n\\nCausal Language Modeling (CLM): Predicting the next word in a\\nsequence.\\n\\nC. Other Notable Transformers\\n●\\n\\nRoBERTa\\n○\\n\\n●\\n\\nImproves on BERT by training with larger batches and more data.\\n\\nALBERT\\n○\\n\\nReduces model size by sharing parameters and factorizing\\nembeddings.\\n\\n●\\n\\nT5 (Text-to-Text Transfer Transformer)\\n○\\n\\nTreats every NLP task as a text-to-text problem.\\n\\n5. Fine-Tuning Transformers\\n\\n\\x0cA. Concept of Fine-Tuning\\n●\\n\\nTransfer Learning\\n○\\n\\nAdapting a pre-trained model to a downstream task with task-specific\\ndata.\\n\\nB. Steps in Fine-Tuning\\n1.\\n\\nLoading Pre-Trained Model\\n○\\n\\nUse pre-trained weights from models like BERT, GPT, etc.\\n\\n2. Modifying Output Layers\\n○\\n\\nReplace the final layer to suit the specific task (e.g., classification head).\\n\\n3. Adjusting Hyperparameters\\n○\\n\\nLearning rate, batch size, number of epochs.\\n\\n4. Training on Task-Specific Data\\n○\\n\\nUse labeled data relevant to the task.\\n\\nC. Best Practices\\n●\\n\\nLayer-Wise Learning Rates\\n○\\n\\n●\\n\\nApply different learning rates to different layers.\\n\\nAvoiding Catastrophic Forgetting\\n○\\n\\nUse smaller learning rates to prevent the model from losing pre-trained\\nknowledge.\\n\\n●\\n\\nRegularization Techniques\\n○\\n\\nDropout, weight decay.\\n\\nD. Common Fine-Tuning Tasks\\n●\\n\\nText Classification\\n\\n●\\n\\nNamed Entity Recognition\\n\\n●\\n\\nQuestion Answering\\n\\n●\\n\\nText Summarization\\n\\n\\x0c6. Pre-Training Transformers\\nA. Pre-Training Objectives\\n●\\n\\nMasked Language Modeling (MLM)\\n○\\n\\n●\\n\\nCausal Language Modeling (CLM)\\n○\\n\\n●\\n\\nPredicting masked tokens in the input sequence.\\nPredicting the next token given the previous tokens.\\n\\nSequence-to-Sequence Pre-Training\\n○\\n\\nUsed in models like T5.\\n\\nB. Data Preparation\\n●\\n\\nCorpus Selection\\n○\\n\\n●\\n\\nLarge and diverse datasets (e.g., Wikipedia, Common Crawl).\\n\\nTokenization Strategies\\n○\\n\\nWordPiece: Used by BERT.\\n\\n○\\n\\nByte-Pair Encoding (BPE): Used by GPT.\\n\\nC. Training Strategies\\n●\\n\\nDistributed Training\\n○\\n\\n●\\n\\nMixed Precision Training\\n○\\n\\n●\\n\\nUsing multiple GPUs or TPUs.\\nReduces memory usage and increases speed.\\n\\nOptimization Algorithms\\n○\\n\\nAdam optimizer with weight decay (AdamW).\\n\\nD. Challenges in Pre-Training\\n●\\n\\nCompute Resources\\n○\\n\\n●\\n\\nRequires significant computational power.\\n\\nData Quality\\n○\\n\\nNoisy data can affect model performance.\\n\\n\\x0cE. Evaluation of Pre-Trained Models\\n●\\n\\nBenchmarking\\n○\\n\\n●\\n\\nUsing datasets like GLUE, SQuAD to assess performance.\\n\\nAblation Studies\\n○\\n\\nUnderstanding the impact of different components.\\n\\n7. Optimizing Transformers\\nA. Computational Challenges\\n●\\n\\nHigh Memory Consumption\\n○\\n\\n●\\n\\nDue to self-attention mechanisms.\\n\\nLong Training Times\\n\\nB. Optimization Techniques\\n1. Efficient Attention Mechanisms\\n●\\n\\nSparse Attention\\n○\\n\\n●\\n\\nLinearized Attention (Linformer)\\n○\\n\\n●\\n\\nReduces the number of computations by focusing on local patterns.\\nApproximates attention to reduce complexity.\\n\\nReformer\\n○\\n\\nUses locality-sensitive hashing to reduce complexity.\\n\\n2. Model Compression\\n●\\n\\nQuantization\\n○\\n\\n●\\n\\nPruning\\n○\\n\\n●\\n\\nReducing the precision of weights (e.g., from 32-bit to 8-bit).\\nRemoving less important weights or neurons.\\n\\nKnowledge Distillation\\n\\n\\x0c○\\n\\nTraining a smaller model (student) to replicate the behavior of a larger\\nmodel (teacher).\\n\\nC. Hardware Considerations\\n●\\n\\nGPUs vs. TPUs\\n○\\n\\n●\\n\\nTPUs can offer faster computation for tensor operations.\\n\\nParallelism Strategies\\n○\\n\\nData Parallelism\\n■\\n\\n○\\n\\nDistributing data across multiple devices.\\n\\nModel Parallelism\\n■\\n\\nDistributing the model\\'s layers across devices.\\n\\nD. Software Tools\\n●\\n\\nOptimized Libraries\\n○\\n\\nHugging Face Transformers: Provides optimized implementations.\\n\\n○\\n\\nDeepSpeed: Optimizes memory and computation.\\n\\n○\\n\\nNVIDIA Apex: Enables mixed precision training.\\n\\n8. NLP Applications Using Transformers\\nA. Text Classification\\n●\\n\\nSentiment Analysis\\n○\\n\\n●\\n\\nClassifying text as positive, negative, or neutral.\\n\\nTopic Classification\\n○\\n\\nCategorizing text into predefined topics.\\n\\nB. Question Answering\\n●\\n\\nImplementing QA Systems\\n○\\n\\nUsing models like BERT to find answers within a context.\\n\\n\\x0c●\\n\\nDatasets\\n○\\n\\nSQuAD, TriviaQA.\\n\\nC. Machine Translation\\n●\\n\\nTransformer Models\\n○\\n\\n●\\n\\nImplementing translation systems without RNNs.\\n\\nDatasets\\n○\\n\\nWMT datasets.\\n\\nD. Text Summarization\\n●\\n\\nAbstractive Summarization\\n○\\n\\n●\\n\\nGenerating concise summaries using models like T5.\\n\\nDatasets\\n○\\n\\nCNN/Daily Mail, Gigaword.\\n\\nE. Language Generation\\n●\\n\\nChatbots\\n○\\n\\n●\\n\\nCreating conversational agents using GPT models.\\n\\nStory Generation\\n○\\n\\nGenerating coherent narratives.\\n\\nF. Named Entity Recognition\\n●\\n\\nSequence Labeling\\n○\\n\\n●\\n\\nIdentifying entities like names, locations, dates.\\n\\nFine-Tuning\\n○\\n\\nAdapting pre-trained models for NER tasks.\\n\\n\\x0c\\x0c'"
            ],
            "application/vnd.google.colaboratory.intrinsic+json": {
              "type": "string"
            }
          },
          "metadata": {},
          "execution_count": 128
        }
      ]
    },
    {
      "cell_type": "code",
      "source": [
        "import re\n",
        "\n",
        "text = re.sub(r'[\\u2022\\u25CB●]\\s*', '', text)\n",
        "\n",
        "# Optional: Remove extra newlines and spaces that might result from the bullet removal\n",
        "# text = re.sub(r'\\n+', '\\n', text)  # Replace multiple newlines with a single newline\n",
        "# text = text.strip()  # Remove leading and trailing whitespaces\n"
      ],
      "metadata": {
        "id": "NCNFxEVV6EHi"
      },
      "execution_count": 79,
      "outputs": []
    },
    {
      "cell_type": "code",
      "source": [
        "faqs = \"\"\"About the Program\n",
        "What is the course fee for  Data Science Mentorship Program (DSMP 2023)\n",
        "The course follows a monthly subscription model where you have to make monthly payments of Rs 799/month.\n",
        "What is the total duration of the course?\n",
        "The total duration of the course is 7 months. So the total course fee becomes 799*7 = Rs 5600(approx.)\n",
        "What is the syllabus of the mentorship program?\n",
        "We will be covering the following modules:\n",
        "Python Fundamentals\n",
        "Python libraries for Data Science\n",
        "Data Analysis\n",
        "SQL for Data Science\n",
        "Maths for Machine Learning\n",
        "ML Algorithms\n",
        "Practical ML\n",
        "MLOPs\n",
        "Case studies\n",
        "You can check the detailed syllabus here - https://learnwith.campusx.in/courses/CampusX-Data-Science-Mentorship-Program-637339afe4b0615a1bbed390\n",
        "Will Deep Learning and NLP be a part of this program?\n",
        "No, NLP and Deep Learning both are not a part of this program’s curriculum.\n",
        "What if I miss a live session? Will I get a recording of the session?\n",
        "Yes all our sessions are recorded, so even if you miss a session you can go back and watch the recording.\n",
        "Where can I find the class schedule?\n",
        "Checkout this google sheet to see month by month time table of the course - https://docs.google.com/spreadsheets/d/16OoTax_A6ORAeCg4emgexhqqPv3noQPYKU7RJ6ArOzk/edit?usp=sharing.\n",
        "What is the time duration of all the live sessions?\n",
        "Roughly, all the sessions last 2 hours.\n",
        "What is the language spoken by the instructor during the sessions?\n",
        "Hinglish\n",
        "How will I be informed about the upcoming class?\n",
        "You will get a mail from our side before every paid session once you become a paid user.\n",
        "Can I do this course if I am from a non-tech background?\n",
        "Yes, absolutely.\n",
        "I am late, can I join the program in the middle?\n",
        "Absolutely, you can join the program anytime.\n",
        "If I join/pay in the middle, will I be able to see all the past lectures?\n",
        "Yes, once you make the payment you will be able to see all the past content in your dashboard.\n",
        "Where do I have to submit the task?\n",
        "You don’t have to submit the task. We will provide you with the solutions, you have to self evaluate the task yourself.\n",
        "Will we do case studies in the program?\n",
        "Yes.\n",
        "Where can we contact you?\n",
        "You can mail us at nitish.campusx@gmail.com\n",
        "Payment/Registration related questions\n",
        "Where do we have to make our payments? Your YouTube channel or website?\n",
        "You have to make all your monthly payments on our website. Here is the link for our website - https://learnwith.campusx.in/\n",
        "Can we pay the entire amount of Rs 5600 all at once?\n",
        "Unfortunately no, the program follows a monthly subscription model.\n",
        "What is the validity of monthly subscription? Suppose if I pay on 15th Jan, then do I have to pay again on 1st Feb or 15th Feb\n",
        "15th Feb. The validity period is 30 days from the day you make the payment. So essentially you can join anytime you don’t have to wait for a month to end.\n",
        "What if I don’t like the course after making the payment. What is the refund policy?\n",
        "You get a 7 days refund period from the day you have made the payment.\n",
        "I am living outside India and I am not able to make the payment on the website, what should I do?\n",
        "You have to contact us by sending a mail at nitish.campusx@gmail.com\n",
        "Post registration queries\n",
        "Till when can I view the paid videos on the website?\n",
        "This one is tricky, so read carefully. You can watch the videos till your subscription is valid. Suppose you have purchased subscription on 21st Jan, you will be able to watch all the past paid sessions in the period of 21st Jan to 20th Feb. But after 21st Feb you will have to purchase the subscription again.\n",
        "But once the course is over and you have paid us Rs 5600(or 7 installments of Rs 799) you will be able to watch the paid sessions till Aug 2024.\n",
        "Why lifetime validity is not provided?\n",
        "Because of the low course fee.\n",
        "Where can I reach out in case of a doubt after the session?\n",
        "You will have to fill a google form provided in your dashboard and our team will contact you for a 1 on 1 doubt clearance session\n",
        "If I join the program late, can I still ask past week doubts?\n",
        "Yes, just select past week doubt in the doubt clearance google form.\n",
        "I am living outside India and I am not able to make the payment on the website, what should I do?\n",
        "You have to contact us by sending a mail at nitish.campusx@gmai.com\n",
        "Certificate and Placement Assistance related queries\n",
        "What is the criteria to get the certificate?\n",
        "There are 2 criterias:\n",
        "You have to pay the entire fee of Rs 5600\n",
        "You have to attempt all the course assessments.\n",
        "I am joining late. How can I pay payment of the earlier months?\n",
        "You will get a link to pay fee of earlier months in your dashboard once you pay for the current month.\n",
        "I have read that Placement assistance is a part of this program. What comes under Placement assistance?\n",
        "This is to clarify that Placement assistance does not mean Placement guarantee. So we dont guarantee you any jobs or for that matter even interview calls. So if you are planning to join this course just for placements, I am afraid you will be disappointed. Here is what comes under placement assistance\n",
        "Portfolio Building sessions\n",
        "Soft skill sessions\n",
        "Sessions with industry mentors\n",
        "Discussion on Job hunting strategies\n",
        "\"\"\""
      ],
      "metadata": {
        "id": "MzPB9hImJ8SX"
      },
      "execution_count": 80,
      "outputs": []
    },
    {
      "cell_type": "code",
      "source": [
        "import tensorflow as tf\n",
        "from tensorflow.keras.preprocessing.text import Tokenizer"
      ],
      "metadata": {
        "id": "SR-5-YmK6VlH"
      },
      "execution_count": 129,
      "outputs": []
    },
    {
      "cell_type": "code",
      "source": [
        "tokenizer = Tokenizer()"
      ],
      "metadata": {
        "id": "ekujL1Zp-WLn"
      },
      "execution_count": 130,
      "outputs": []
    },
    {
      "cell_type": "code",
      "source": [
        "tokenizer.fit_on_texts([text])"
      ],
      "metadata": {
        "id": "BNGkYnva-s0U"
      },
      "execution_count": 131,
      "outputs": []
    },
    {
      "cell_type": "code",
      "source": [
        "len(tokenizer.word_index)"
      ],
      "metadata": {
        "colab": {
          "base_uri": "https://localhost:8080/"
        },
        "id": "7tJdLnPE-voo",
        "outputId": "932dcda4-b891-45b6-b8fb-98562b19dbbe"
      },
      "execution_count": 132,
      "outputs": [
        {
          "output_type": "execute_result",
          "data": {
            "text/plain": [
              "839"
            ]
          },
          "metadata": {},
          "execution_count": 132
        }
      ]
    },
    {
      "cell_type": "code",
      "source": [
        "input_sequences = []\n",
        "for sentences in text.split('\\n'):\n",
        "  tokenized_sentence = tokenizer.texts_to_sequences([sentences])[0]\n",
        "  for i in range(1,len(tokenized_sentence)):\n",
        "    input_sequences.append(tokenized_sentence[:i+1])"
      ],
      "metadata": {
        "id": "J2xBAbqQ_vUF"
      },
      "execution_count": 133,
      "outputs": []
    },
    {
      "cell_type": "code",
      "source": [
        "maxlen = max([len(x) for x in input_sequences])"
      ],
      "metadata": {
        "id": "rFHqG5zd_aic"
      },
      "execution_count": 134,
      "outputs": []
    },
    {
      "cell_type": "code",
      "source": [
        "maxlen"
      ],
      "metadata": {
        "colab": {
          "base_uri": "https://localhost:8080/"
        },
        "id": "7ilVmn9zGXqm",
        "outputId": "609208b8-4c30-460e-b47f-af13406fa492"
      },
      "execution_count": 135,
      "outputs": [
        {
          "output_type": "execute_result",
          "data": {
            "text/plain": [
              "13"
            ]
          },
          "metadata": {},
          "execution_count": 135
        }
      ]
    },
    {
      "cell_type": "code",
      "source": [
        "from tensorflow.keras.preprocessing.sequence import pad_sequences\n",
        "\n",
        "padded_sequences = pad_sequences(input_sequences, maxlen, padding='pre')"
      ],
      "metadata": {
        "id": "GehRNW7BA_Y3"
      },
      "execution_count": 136,
      "outputs": []
    },
    {
      "cell_type": "code",
      "source": [
        "padded_sequences"
      ],
      "metadata": {
        "colab": {
          "base_uri": "https://localhost:8080/"
        },
        "id": "kpCLG01DCXSR",
        "outputId": "6f2ba765-b9c5-4fc5-984d-19f3139e23b2"
      },
      "execution_count": 137,
      "outputs": [
        {
          "output_type": "execute_result",
          "data": {
            "text/plain": [
              "array([[  0,   0,   0, ...,   0, 368,  46],\n",
              "       [  0,   0,   0, ..., 368,  46,  27],\n",
              "       [  0,   0,   0, ...,  46,  27, 369],\n",
              "       ...,\n",
              "       [  0,   0,   0, ...,  44,  16,  24],\n",
              "       [  0,   0,   0, ...,  16,  24, 838],\n",
              "       [  0,   0,   0, ...,  24, 838,  48]], dtype=int32)"
            ]
          },
          "metadata": {},
          "execution_count": 137
        }
      ]
    },
    {
      "cell_type": "code",
      "source": [
        "X = padded_sequences[:,:-1]\n",
        "y = padded_sequences[:,-1]"
      ],
      "metadata": {
        "id": "3BsXLwjxCbdw"
      },
      "execution_count": 138,
      "outputs": []
    },
    {
      "cell_type": "code",
      "source": [
        "print(X.shape)\n",
        "print(y.shape)"
      ],
      "metadata": {
        "colab": {
          "base_uri": "https://localhost:8080/"
        },
        "id": "_MhFw0nwCvOw",
        "outputId": "bcb51f6a-cd3c-4e32-a239-22880e784101"
      },
      "execution_count": 139,
      "outputs": [
        {
          "output_type": "stream",
          "name": "stdout",
          "text": [
            "(1686, 12)\n",
            "(1686,)\n"
          ]
        }
      ]
    },
    {
      "cell_type": "code",
      "source": [
        "from tensorflow.keras.utils import to_categorical\n",
        "y = to_categorical(y, num_classes=len(tokenizer.word_index)+1)"
      ],
      "metadata": {
        "id": "d2qZE3fECzBf"
      },
      "execution_count": 140,
      "outputs": []
    },
    {
      "cell_type": "code",
      "source": [
        "from tensorflow.keras.models import Sequential\n",
        "from tensorflow.keras.layers import Embedding, LSTM, Dense, Dropout\n",
        "from keras.layers import Bidirectional\n",
        "\n"
      ],
      "metadata": {
        "id": "qMa7czYyC_Ax"
      },
      "execution_count": 141,
      "outputs": []
    },
    {
      "cell_type": "code",
      "source": [
        "model = Sequential()\n",
        "# model.add(Embedding(input_dim=(len(tokenizer.word_index)+1,), output_dim=100))\n",
        "model.add(Embedding(len(tokenizer.word_index)+1, 100, input_shape=(maxlen,)))\n",
        "model.add(Dropout(0.5))  # Dropout layer\n",
        "model.add(Bidirectional(LSTM(200))) # Added return_sequences=True\n",
        "model.add(Dropout(0.5))\n",
        "model.add(Dense(len(tokenizer.word_index)+1, activation='softmax'))\n",
        "\n"
      ],
      "metadata": {
        "colab": {
          "base_uri": "https://localhost:8080/"
        },
        "id": "EnkdIEOMDNgT",
        "outputId": "d3b3321c-26f5-421c-f20a-5b596618e5da"
      },
      "execution_count": 142,
      "outputs": [
        {
          "output_type": "stream",
          "name": "stderr",
          "text": [
            "/usr/local/lib/python3.11/dist-packages/keras/src/layers/core/embedding.py:93: UserWarning: Do not pass an `input_shape`/`input_dim` argument to a layer. When using Sequential models, prefer using an `Input(shape)` object as the first layer in the model instead.\n",
            "  super().__init__(**kwargs)\n"
          ]
        }
      ]
    },
    {
      "cell_type": "code",
      "source": [
        "model.compile(loss='categorical_crossentropy', optimizer='adam', metrics=['accuracy'])"
      ],
      "metadata": {
        "id": "9-c4ZH_rEgAk"
      },
      "execution_count": 143,
      "outputs": []
    },
    {
      "cell_type": "code",
      "source": [
        "model.summary()"
      ],
      "metadata": {
        "colab": {
          "base_uri": "https://localhost:8080/",
          "height": 306
        },
        "id": "p5IEra1ZFJGy",
        "outputId": "a63f46c9-d5a7-4d9d-aa39-02185adeddbd"
      },
      "execution_count": 144,
      "outputs": [
        {
          "output_type": "display_data",
          "data": {
            "text/plain": [
              "\u001b[1mModel: \"sequential_10\"\u001b[0m\n"
            ],
            "text/html": [
              "<pre style=\"white-space:pre;overflow-x:auto;line-height:normal;font-family:Menlo,'DejaVu Sans Mono',consolas,'Courier New',monospace\"><span style=\"font-weight: bold\">Model: \"sequential_10\"</span>\n",
              "</pre>\n"
            ]
          },
          "metadata": {}
        },
        {
          "output_type": "display_data",
          "data": {
            "text/plain": [
              "┏━━━━━━━━━━━━━━━━━━━━━━━━━━━━━━━━━━━━━━┳━━━━━━━━━━━━━━━━━━━━━━━━━━━━━┳━━━━━━━━━━━━━━━━━┓\n",
              "┃\u001b[1m \u001b[0m\u001b[1mLayer (type)                        \u001b[0m\u001b[1m \u001b[0m┃\u001b[1m \u001b[0m\u001b[1mOutput Shape               \u001b[0m\u001b[1m \u001b[0m┃\u001b[1m \u001b[0m\u001b[1m        Param #\u001b[0m\u001b[1m \u001b[0m┃\n",
              "┡━━━━━━━━━━━━━━━━━━━━━━━━━━━━━━━━━━━━━━╇━━━━━━━━━━━━━━━━━━━━━━━━━━━━━╇━━━━━━━━━━━━━━━━━┩\n",
              "│ embedding_10 (\u001b[38;5;33mEmbedding\u001b[0m)             │ (\u001b[38;5;45mNone\u001b[0m, \u001b[38;5;34m13\u001b[0m, \u001b[38;5;34m100\u001b[0m)             │          \u001b[38;5;34m84,000\u001b[0m │\n",
              "├──────────────────────────────────────┼─────────────────────────────┼─────────────────┤\n",
              "│ dropout_7 (\u001b[38;5;33mDropout\u001b[0m)                  │ (\u001b[38;5;45mNone\u001b[0m, \u001b[38;5;34m13\u001b[0m, \u001b[38;5;34m100\u001b[0m)             │               \u001b[38;5;34m0\u001b[0m │\n",
              "├──────────────────────────────────────┼─────────────────────────────┼─────────────────┤\n",
              "│ bidirectional_1 (\u001b[38;5;33mBidirectional\u001b[0m)      │ (\u001b[38;5;45mNone\u001b[0m, \u001b[38;5;34m400\u001b[0m)                 │         \u001b[38;5;34m481,600\u001b[0m │\n",
              "├──────────────────────────────────────┼─────────────────────────────┼─────────────────┤\n",
              "│ dropout_8 (\u001b[38;5;33mDropout\u001b[0m)                  │ (\u001b[38;5;45mNone\u001b[0m, \u001b[38;5;34m400\u001b[0m)                 │               \u001b[38;5;34m0\u001b[0m │\n",
              "├──────────────────────────────────────┼─────────────────────────────┼─────────────────┤\n",
              "│ dense_8 (\u001b[38;5;33mDense\u001b[0m)                      │ (\u001b[38;5;45mNone\u001b[0m, \u001b[38;5;34m840\u001b[0m)                 │         \u001b[38;5;34m336,840\u001b[0m │\n",
              "└──────────────────────────────────────┴─────────────────────────────┴─────────────────┘\n"
            ],
            "text/html": [
              "<pre style=\"white-space:pre;overflow-x:auto;line-height:normal;font-family:Menlo,'DejaVu Sans Mono',consolas,'Courier New',monospace\">┏━━━━━━━━━━━━━━━━━━━━━━━━━━━━━━━━━━━━━━┳━━━━━━━━━━━━━━━━━━━━━━━━━━━━━┳━━━━━━━━━━━━━━━━━┓\n",
              "┃<span style=\"font-weight: bold\"> Layer (type)                         </span>┃<span style=\"font-weight: bold\"> Output Shape                </span>┃<span style=\"font-weight: bold\">         Param # </span>┃\n",
              "┡━━━━━━━━━━━━━━━━━━━━━━━━━━━━━━━━━━━━━━╇━━━━━━━━━━━━━━━━━━━━━━━━━━━━━╇━━━━━━━━━━━━━━━━━┩\n",
              "│ embedding_10 (<span style=\"color: #0087ff; text-decoration-color: #0087ff\">Embedding</span>)             │ (<span style=\"color: #00d7ff; text-decoration-color: #00d7ff\">None</span>, <span style=\"color: #00af00; text-decoration-color: #00af00\">13</span>, <span style=\"color: #00af00; text-decoration-color: #00af00\">100</span>)             │          <span style=\"color: #00af00; text-decoration-color: #00af00\">84,000</span> │\n",
              "├──────────────────────────────────────┼─────────────────────────────┼─────────────────┤\n",
              "│ dropout_7 (<span style=\"color: #0087ff; text-decoration-color: #0087ff\">Dropout</span>)                  │ (<span style=\"color: #00d7ff; text-decoration-color: #00d7ff\">None</span>, <span style=\"color: #00af00; text-decoration-color: #00af00\">13</span>, <span style=\"color: #00af00; text-decoration-color: #00af00\">100</span>)             │               <span style=\"color: #00af00; text-decoration-color: #00af00\">0</span> │\n",
              "├──────────────────────────────────────┼─────────────────────────────┼─────────────────┤\n",
              "│ bidirectional_1 (<span style=\"color: #0087ff; text-decoration-color: #0087ff\">Bidirectional</span>)      │ (<span style=\"color: #00d7ff; text-decoration-color: #00d7ff\">None</span>, <span style=\"color: #00af00; text-decoration-color: #00af00\">400</span>)                 │         <span style=\"color: #00af00; text-decoration-color: #00af00\">481,600</span> │\n",
              "├──────────────────────────────────────┼─────────────────────────────┼─────────────────┤\n",
              "│ dropout_8 (<span style=\"color: #0087ff; text-decoration-color: #0087ff\">Dropout</span>)                  │ (<span style=\"color: #00d7ff; text-decoration-color: #00d7ff\">None</span>, <span style=\"color: #00af00; text-decoration-color: #00af00\">400</span>)                 │               <span style=\"color: #00af00; text-decoration-color: #00af00\">0</span> │\n",
              "├──────────────────────────────────────┼─────────────────────────────┼─────────────────┤\n",
              "│ dense_8 (<span style=\"color: #0087ff; text-decoration-color: #0087ff\">Dense</span>)                      │ (<span style=\"color: #00d7ff; text-decoration-color: #00d7ff\">None</span>, <span style=\"color: #00af00; text-decoration-color: #00af00\">840</span>)                 │         <span style=\"color: #00af00; text-decoration-color: #00af00\">336,840</span> │\n",
              "└──────────────────────────────────────┴─────────────────────────────┴─────────────────┘\n",
              "</pre>\n"
            ]
          },
          "metadata": {}
        },
        {
          "output_type": "display_data",
          "data": {
            "text/plain": [
              "\u001b[1m Total params: \u001b[0m\u001b[38;5;34m902,440\u001b[0m (3.44 MB)\n"
            ],
            "text/html": [
              "<pre style=\"white-space:pre;overflow-x:auto;line-height:normal;font-family:Menlo,'DejaVu Sans Mono',consolas,'Courier New',monospace\"><span style=\"font-weight: bold\"> Total params: </span><span style=\"color: #00af00; text-decoration-color: #00af00\">902,440</span> (3.44 MB)\n",
              "</pre>\n"
            ]
          },
          "metadata": {}
        },
        {
          "output_type": "display_data",
          "data": {
            "text/plain": [
              "\u001b[1m Trainable params: \u001b[0m\u001b[38;5;34m902,440\u001b[0m (3.44 MB)\n"
            ],
            "text/html": [
              "<pre style=\"white-space:pre;overflow-x:auto;line-height:normal;font-family:Menlo,'DejaVu Sans Mono',consolas,'Courier New',monospace\"><span style=\"font-weight: bold\"> Trainable params: </span><span style=\"color: #00af00; text-decoration-color: #00af00\">902,440</span> (3.44 MB)\n",
              "</pre>\n"
            ]
          },
          "metadata": {}
        },
        {
          "output_type": "display_data",
          "data": {
            "text/plain": [
              "\u001b[1m Non-trainable params: \u001b[0m\u001b[38;5;34m0\u001b[0m (0.00 B)\n"
            ],
            "text/html": [
              "<pre style=\"white-space:pre;overflow-x:auto;line-height:normal;font-family:Menlo,'DejaVu Sans Mono',consolas,'Courier New',monospace\"><span style=\"font-weight: bold\"> Non-trainable params: </span><span style=\"color: #00af00; text-decoration-color: #00af00\">0</span> (0.00 B)\n",
              "</pre>\n"
            ]
          },
          "metadata": {}
        }
      ]
    },
    {
      "cell_type": "code",
      "source": [
        "from tensorflow.keras.callbacks import EarlyStopping\n",
        "\n",
        "early_stopping = EarlyStopping(monitor='val_loss', patience=10, restore_best_weights=False)"
      ],
      "metadata": {
        "id": "x4SzDho-HBUo"
      },
      "execution_count": 145,
      "outputs": []
    },
    {
      "cell_type": "code",
      "source": [
        "history = model.fit(X,y, epochs=100, validation_split=0.2)"
      ],
      "metadata": {
        "colab": {
          "base_uri": "https://localhost:8080/"
        },
        "id": "bEkP5IuNFJ3-",
        "outputId": "6572bfec-5e4f-42c9-e008-5eb228537d26"
      },
      "execution_count": 146,
      "outputs": [
        {
          "output_type": "stream",
          "name": "stdout",
          "text": [
            "Epoch 1/100\n",
            "\u001b[1m43/43\u001b[0m \u001b[32m━━━━━━━━━━━━━━━━━━━━\u001b[0m\u001b[37m\u001b[0m \u001b[1m4s\u001b[0m 23ms/step - accuracy: 0.0166 - loss: 6.6166 - val_accuracy: 0.0118 - val_loss: 6.5587\n",
            "Epoch 2/100\n",
            "\u001b[1m43/43\u001b[0m \u001b[32m━━━━━━━━━━━━━━━━━━━━\u001b[0m\u001b[37m\u001b[0m \u001b[1m1s\u001b[0m 10ms/step - accuracy: 0.0313 - loss: 5.8853 - val_accuracy: 0.0296 - val_loss: 6.6933\n",
            "Epoch 3/100\n",
            "\u001b[1m43/43\u001b[0m \u001b[32m━━━━━━━━━━━━━━━━━━━━\u001b[0m\u001b[37m\u001b[0m \u001b[1m0s\u001b[0m 10ms/step - accuracy: 0.0356 - loss: 5.7959 - val_accuracy: 0.0178 - val_loss: 6.9121\n",
            "Epoch 4/100\n",
            "\u001b[1m43/43\u001b[0m \u001b[32m━━━━━━━━━━━━━━━━━━━━\u001b[0m\u001b[37m\u001b[0m \u001b[1m0s\u001b[0m 10ms/step - accuracy: 0.0447 - loss: 5.7753 - val_accuracy: 0.0296 - val_loss: 6.9027\n",
            "Epoch 5/100\n",
            "\u001b[1m43/43\u001b[0m \u001b[32m━━━━━━━━━━━━━━━━━━━━\u001b[0m\u001b[37m\u001b[0m \u001b[1m1s\u001b[0m 10ms/step - accuracy: 0.0364 - loss: 5.7336 - val_accuracy: 0.0296 - val_loss: 7.0153\n",
            "Epoch 6/100\n",
            "\u001b[1m43/43\u001b[0m \u001b[32m━━━━━━━━━━━━━━━━━━━━\u001b[0m\u001b[37m\u001b[0m \u001b[1m0s\u001b[0m 10ms/step - accuracy: 0.0319 - loss: 5.6451 - val_accuracy: 0.0089 - val_loss: 7.4012\n",
            "Epoch 7/100\n",
            "\u001b[1m43/43\u001b[0m \u001b[32m━━━━━━━━━━━━━━━━━━━━\u001b[0m\u001b[37m\u001b[0m \u001b[1m0s\u001b[0m 10ms/step - accuracy: 0.0370 - loss: 5.5770 - val_accuracy: 0.0148 - val_loss: 7.3293\n",
            "Epoch 8/100\n",
            "\u001b[1m43/43\u001b[0m \u001b[32m━━━━━━━━━━━━━━━━━━━━\u001b[0m\u001b[37m\u001b[0m \u001b[1m0s\u001b[0m 10ms/step - accuracy: 0.0423 - loss: 5.4686 - val_accuracy: 0.0089 - val_loss: 7.5914\n",
            "Epoch 9/100\n",
            "\u001b[1m43/43\u001b[0m \u001b[32m━━━━━━━━━━━━━━━━━━━━\u001b[0m\u001b[37m\u001b[0m \u001b[1m0s\u001b[0m 10ms/step - accuracy: 0.0473 - loss: 5.4077 - val_accuracy: 0.0148 - val_loss: 7.2461\n",
            "Epoch 10/100\n",
            "\u001b[1m43/43\u001b[0m \u001b[32m━━━━━━━━━━━━━━━━━━━━\u001b[0m\u001b[37m\u001b[0m \u001b[1m1s\u001b[0m 11ms/step - accuracy: 0.0395 - loss: 5.3531 - val_accuracy: 0.0118 - val_loss: 7.3974\n",
            "Epoch 11/100\n",
            "\u001b[1m43/43\u001b[0m \u001b[32m━━━━━━━━━━━━━━━━━━━━\u001b[0m\u001b[37m\u001b[0m \u001b[1m1s\u001b[0m 10ms/step - accuracy: 0.0499 - loss: 5.1994 - val_accuracy: 0.0148 - val_loss: 7.6745\n",
            "Epoch 12/100\n",
            "\u001b[1m43/43\u001b[0m \u001b[32m━━━━━━━━━━━━━━━━━━━━\u001b[0m\u001b[37m\u001b[0m \u001b[1m0s\u001b[0m 9ms/step - accuracy: 0.0574 - loss: 5.1095 - val_accuracy: 0.0148 - val_loss: 7.7838\n",
            "Epoch 13/100\n",
            "\u001b[1m43/43\u001b[0m \u001b[32m━━━━━━━━━━━━━━━━━━━━\u001b[0m\u001b[37m\u001b[0m \u001b[1m1s\u001b[0m 10ms/step - accuracy: 0.0473 - loss: 5.0432 - val_accuracy: 0.0089 - val_loss: 7.5776\n",
            "Epoch 14/100\n",
            "\u001b[1m43/43\u001b[0m \u001b[32m━━━━━━━━━━━━━━━━━━━━\u001b[0m\u001b[37m\u001b[0m \u001b[1m0s\u001b[0m 10ms/step - accuracy: 0.0588 - loss: 4.9526 - val_accuracy: 0.0118 - val_loss: 7.8311\n",
            "Epoch 15/100\n",
            "\u001b[1m43/43\u001b[0m \u001b[32m━━━━━━━━━━━━━━━━━━━━\u001b[0m\u001b[37m\u001b[0m \u001b[1m1s\u001b[0m 10ms/step - accuracy: 0.0846 - loss: 4.7438 - val_accuracy: 0.0118 - val_loss: 7.9130\n",
            "Epoch 16/100\n",
            "\u001b[1m43/43\u001b[0m \u001b[32m━━━━━━━━━━━━━━━━━━━━\u001b[0m\u001b[37m\u001b[0m \u001b[1m0s\u001b[0m 10ms/step - accuracy: 0.0767 - loss: 4.7206 - val_accuracy: 0.0118 - val_loss: 8.1192\n",
            "Epoch 17/100\n",
            "\u001b[1m43/43\u001b[0m \u001b[32m━━━━━━━━━━━━━━━━━━━━\u001b[0m\u001b[37m\u001b[0m \u001b[1m0s\u001b[0m 10ms/step - accuracy: 0.0746 - loss: 4.6727 - val_accuracy: 0.0089 - val_loss: 8.2096\n",
            "Epoch 18/100\n",
            "\u001b[1m43/43\u001b[0m \u001b[32m━━━━━━━━━━━━━━━━━━━━\u001b[0m\u001b[37m\u001b[0m \u001b[1m1s\u001b[0m 12ms/step - accuracy: 0.0885 - loss: 4.5853 - val_accuracy: 0.0089 - val_loss: 8.4196\n",
            "Epoch 19/100\n",
            "\u001b[1m43/43\u001b[0m \u001b[32m━━━━━━━━━━━━━━━━━━━━\u001b[0m\u001b[37m\u001b[0m \u001b[1m0s\u001b[0m 10ms/step - accuracy: 0.0882 - loss: 4.4504 - val_accuracy: 0.0118 - val_loss: 8.2572\n",
            "Epoch 20/100\n",
            "\u001b[1m43/43\u001b[0m \u001b[32m━━━━━━━━━━━━━━━━━━━━\u001b[0m\u001b[37m\u001b[0m \u001b[1m1s\u001b[0m 12ms/step - accuracy: 0.0922 - loss: 4.3879 - val_accuracy: 0.0030 - val_loss: 8.6483\n",
            "Epoch 21/100\n",
            "\u001b[1m43/43\u001b[0m \u001b[32m━━━━━━━━━━━━━━━━━━━━\u001b[0m\u001b[37m\u001b[0m \u001b[1m1s\u001b[0m 14ms/step - accuracy: 0.0932 - loss: 4.3014 - val_accuracy: 0.0059 - val_loss: 8.5975\n",
            "Epoch 22/100\n",
            "\u001b[1m43/43\u001b[0m \u001b[32m━━━━━━━━━━━━━━━━━━━━\u001b[0m\u001b[37m\u001b[0m \u001b[1m1s\u001b[0m 17ms/step - accuracy: 0.1196 - loss: 4.1592 - val_accuracy: 0.0237 - val_loss: 8.6644\n",
            "Epoch 23/100\n",
            "\u001b[1m43/43\u001b[0m \u001b[32m━━━━━━━━━━━━━━━━━━━━\u001b[0m\u001b[37m\u001b[0m \u001b[1m0s\u001b[0m 10ms/step - accuracy: 0.1231 - loss: 4.0628 - val_accuracy: 0.0296 - val_loss: 8.7151\n",
            "Epoch 24/100\n",
            "\u001b[1m43/43\u001b[0m \u001b[32m━━━━━━━━━━━━━━━━━━━━\u001b[0m\u001b[37m\u001b[0m \u001b[1m1s\u001b[0m 10ms/step - accuracy: 0.1188 - loss: 3.9881 - val_accuracy: 0.0296 - val_loss: 8.8427\n",
            "Epoch 25/100\n",
            "\u001b[1m43/43\u001b[0m \u001b[32m━━━━━━━━━━━━━━━━━━━━\u001b[0m\u001b[37m\u001b[0m \u001b[1m0s\u001b[0m 10ms/step - accuracy: 0.1539 - loss: 3.7607 - val_accuracy: 0.0414 - val_loss: 9.0387\n",
            "Epoch 26/100\n",
            "\u001b[1m43/43\u001b[0m \u001b[32m━━━━━━━━━━━━━━━━━━━━\u001b[0m\u001b[37m\u001b[0m \u001b[1m0s\u001b[0m 10ms/step - accuracy: 0.1540 - loss: 3.6937 - val_accuracy: 0.0325 - val_loss: 9.2038\n",
            "Epoch 27/100\n",
            "\u001b[1m43/43\u001b[0m \u001b[32m━━━━━━━━━━━━━━━━━━━━\u001b[0m\u001b[37m\u001b[0m \u001b[1m0s\u001b[0m 10ms/step - accuracy: 0.1947 - loss: 3.5360 - val_accuracy: 0.0296 - val_loss: 9.0618\n",
            "Epoch 28/100\n",
            "\u001b[1m43/43\u001b[0m \u001b[32m━━━━━━━━━━━━━━━━━━━━\u001b[0m\u001b[37m\u001b[0m \u001b[1m0s\u001b[0m 9ms/step - accuracy: 0.2120 - loss: 3.3964 - val_accuracy: 0.0325 - val_loss: 9.1358\n",
            "Epoch 29/100\n",
            "\u001b[1m43/43\u001b[0m \u001b[32m━━━━━━━━━━━━━━━━━━━━\u001b[0m\u001b[37m\u001b[0m \u001b[1m0s\u001b[0m 10ms/step - accuracy: 0.2301 - loss: 3.3914 - val_accuracy: 0.0414 - val_loss: 9.2949\n",
            "Epoch 30/100\n",
            "\u001b[1m43/43\u001b[0m \u001b[32m━━━━━━━━━━━━━━━━━━━━\u001b[0m\u001b[37m\u001b[0m \u001b[1m0s\u001b[0m 9ms/step - accuracy: 0.2518 - loss: 3.1796 - val_accuracy: 0.0473 - val_loss: 9.2351\n",
            "Epoch 31/100\n",
            "\u001b[1m43/43\u001b[0m \u001b[32m━━━━━━━━━━━━━━━━━━━━\u001b[0m\u001b[37m\u001b[0m \u001b[1m0s\u001b[0m 10ms/step - accuracy: 0.2826 - loss: 3.1082 - val_accuracy: 0.0533 - val_loss: 9.4903\n",
            "Epoch 32/100\n",
            "\u001b[1m43/43\u001b[0m \u001b[32m━━━━━━━━━━━━━━━━━━━━\u001b[0m\u001b[37m\u001b[0m \u001b[1m0s\u001b[0m 10ms/step - accuracy: 0.3015 - loss: 2.9631 - val_accuracy: 0.0414 - val_loss: 9.5609\n",
            "Epoch 33/100\n",
            "\u001b[1m43/43\u001b[0m \u001b[32m━━━━━━━━━━━━━━━━━━━━\u001b[0m\u001b[37m\u001b[0m \u001b[1m1s\u001b[0m 9ms/step - accuracy: 0.3075 - loss: 2.8466 - val_accuracy: 0.0355 - val_loss: 9.4986\n",
            "Epoch 34/100\n",
            "\u001b[1m43/43\u001b[0m \u001b[32m━━━━━━━━━━━━━━━━━━━━\u001b[0m\u001b[37m\u001b[0m \u001b[1m0s\u001b[0m 9ms/step - accuracy: 0.3120 - loss: 2.8493 - val_accuracy: 0.0473 - val_loss: 9.7333\n",
            "Epoch 35/100\n",
            "\u001b[1m43/43\u001b[0m \u001b[32m━━━━━━━━━━━━━━━━━━━━\u001b[0m\u001b[37m\u001b[0m \u001b[1m0s\u001b[0m 9ms/step - accuracy: 0.3570 - loss: 2.6794 - val_accuracy: 0.0503 - val_loss: 9.6562\n",
            "Epoch 36/100\n",
            "\u001b[1m43/43\u001b[0m \u001b[32m━━━━━━━━━━━━━━━━━━━━\u001b[0m\u001b[37m\u001b[0m \u001b[1m1s\u001b[0m 9ms/step - accuracy: 0.3809 - loss: 2.5400 - val_accuracy: 0.0562 - val_loss: 9.8006\n",
            "Epoch 37/100\n",
            "\u001b[1m43/43\u001b[0m \u001b[32m━━━━━━━━━━━━━━━━━━━━\u001b[0m\u001b[37m\u001b[0m \u001b[1m0s\u001b[0m 9ms/step - accuracy: 0.3901 - loss: 2.5555 - val_accuracy: 0.0473 - val_loss: 9.9693\n",
            "Epoch 38/100\n",
            "\u001b[1m43/43\u001b[0m \u001b[32m━━━━━━━━━━━━━━━━━━━━\u001b[0m\u001b[37m\u001b[0m \u001b[1m0s\u001b[0m 9ms/step - accuracy: 0.4229 - loss: 2.4140 - val_accuracy: 0.0592 - val_loss: 10.0377\n",
            "Epoch 39/100\n",
            "\u001b[1m43/43\u001b[0m \u001b[32m━━━━━━━━━━━━━━━━━━━━\u001b[0m\u001b[37m\u001b[0m \u001b[1m0s\u001b[0m 9ms/step - accuracy: 0.4354 - loss: 2.2758 - val_accuracy: 0.0562 - val_loss: 10.1074\n",
            "Epoch 40/100\n",
            "\u001b[1m43/43\u001b[0m \u001b[32m━━━━━━━━━━━━━━━━━━━━\u001b[0m\u001b[37m\u001b[0m \u001b[1m1s\u001b[0m 10ms/step - accuracy: 0.4427 - loss: 2.3062 - val_accuracy: 0.0592 - val_loss: 9.9709\n",
            "Epoch 41/100\n",
            "\u001b[1m43/43\u001b[0m \u001b[32m━━━━━━━━━━━━━━━━━━━━\u001b[0m\u001b[37m\u001b[0m \u001b[1m0s\u001b[0m 10ms/step - accuracy: 0.4804 - loss: 2.1434 - val_accuracy: 0.0533 - val_loss: 10.0878\n",
            "Epoch 42/100\n",
            "\u001b[1m43/43\u001b[0m \u001b[32m━━━━━━━━━━━━━━━━━━━━\u001b[0m\u001b[37m\u001b[0m \u001b[1m0s\u001b[0m 10ms/step - accuracy: 0.4980 - loss: 2.1008 - val_accuracy: 0.0592 - val_loss: 10.1195\n",
            "Epoch 43/100\n",
            "\u001b[1m43/43\u001b[0m \u001b[32m━━━━━━━━━━━━━━━━━━━━\u001b[0m\u001b[37m\u001b[0m \u001b[1m1s\u001b[0m 13ms/step - accuracy: 0.5169 - loss: 2.0558 - val_accuracy: 0.0562 - val_loss: 10.2411\n",
            "Epoch 44/100\n",
            "\u001b[1m43/43\u001b[0m \u001b[32m━━━━━━━━━━━━━━━━━━━━\u001b[0m\u001b[37m\u001b[0m \u001b[1m1s\u001b[0m 13ms/step - accuracy: 0.5134 - loss: 1.9543 - val_accuracy: 0.0503 - val_loss: 10.1759\n",
            "Epoch 45/100\n",
            "\u001b[1m43/43\u001b[0m \u001b[32m━━━━━━━━━━━━━━━━━━━━\u001b[0m\u001b[37m\u001b[0m \u001b[1m1s\u001b[0m 14ms/step - accuracy: 0.5198 - loss: 1.8580 - val_accuracy: 0.0562 - val_loss: 10.2513\n",
            "Epoch 46/100\n",
            "\u001b[1m43/43\u001b[0m \u001b[32m━━━━━━━━━━━━━━━━━━━━\u001b[0m\u001b[37m\u001b[0m \u001b[1m1s\u001b[0m 14ms/step - accuracy: 0.5497 - loss: 1.7820 - val_accuracy: 0.0533 - val_loss: 10.2084\n",
            "Epoch 47/100\n",
            "\u001b[1m43/43\u001b[0m \u001b[32m━━━━━━━━━━━━━━━━━━━━\u001b[0m\u001b[37m\u001b[0m \u001b[1m1s\u001b[0m 12ms/step - accuracy: 0.5529 - loss: 1.7715 - val_accuracy: 0.0533 - val_loss: 10.5066\n",
            "Epoch 48/100\n",
            "\u001b[1m43/43\u001b[0m \u001b[32m━━━━━━━━━━━━━━━━━━━━\u001b[0m\u001b[37m\u001b[0m \u001b[1m1s\u001b[0m 10ms/step - accuracy: 0.5763 - loss: 1.5806 - val_accuracy: 0.0592 - val_loss: 10.5340\n",
            "Epoch 49/100\n",
            "\u001b[1m43/43\u001b[0m \u001b[32m━━━━━━━━━━━━━━━━━━━━\u001b[0m\u001b[37m\u001b[0m \u001b[1m0s\u001b[0m 11ms/step - accuracy: 0.5832 - loss: 1.6672 - val_accuracy: 0.0651 - val_loss: 10.5468\n",
            "Epoch 50/100\n",
            "\u001b[1m43/43\u001b[0m \u001b[32m━━━━━━━━━━━━━━━━━━━━\u001b[0m\u001b[37m\u001b[0m \u001b[1m0s\u001b[0m 9ms/step - accuracy: 0.6093 - loss: 1.5275 - val_accuracy: 0.0533 - val_loss: 10.4478\n",
            "Epoch 51/100\n",
            "\u001b[1m43/43\u001b[0m \u001b[32m━━━━━━━━━━━━━━━━━━━━\u001b[0m\u001b[37m\u001b[0m \u001b[1m0s\u001b[0m 9ms/step - accuracy: 0.6302 - loss: 1.4731 - val_accuracy: 0.0651 - val_loss: 10.4837\n",
            "Epoch 52/100\n",
            "\u001b[1m43/43\u001b[0m \u001b[32m━━━━━━━━━━━━━━━━━━━━\u001b[0m\u001b[37m\u001b[0m \u001b[1m1s\u001b[0m 9ms/step - accuracy: 0.6025 - loss: 1.5320 - val_accuracy: 0.0621 - val_loss: 10.7126\n",
            "Epoch 53/100\n",
            "\u001b[1m43/43\u001b[0m \u001b[32m━━━━━━━━━━━━━━━━━━━━\u001b[0m\u001b[37m\u001b[0m \u001b[1m0s\u001b[0m 11ms/step - accuracy: 0.6419 - loss: 1.4190 - val_accuracy: 0.0592 - val_loss: 10.6148\n",
            "Epoch 54/100\n",
            "\u001b[1m43/43\u001b[0m \u001b[32m━━━━━━━━━━━━━━━━━━━━\u001b[0m\u001b[37m\u001b[0m \u001b[1m1s\u001b[0m 9ms/step - accuracy: 0.6366 - loss: 1.3563 - val_accuracy: 0.0592 - val_loss: 10.6873\n",
            "Epoch 55/100\n",
            "\u001b[1m43/43\u001b[0m \u001b[32m━━━━━━━━━━━━━━━━━━━━\u001b[0m\u001b[37m\u001b[0m \u001b[1m1s\u001b[0m 10ms/step - accuracy: 0.6646 - loss: 1.3689 - val_accuracy: 0.0621 - val_loss: 10.6386\n",
            "Epoch 56/100\n",
            "\u001b[1m43/43\u001b[0m \u001b[32m━━━━━━━━━━━━━━━━━━━━\u001b[0m\u001b[37m\u001b[0m \u001b[1m1s\u001b[0m 9ms/step - accuracy: 0.6595 - loss: 1.3042 - val_accuracy: 0.0592 - val_loss: 10.7638\n",
            "Epoch 57/100\n",
            "\u001b[1m43/43\u001b[0m \u001b[32m━━━━━━━━━━━━━━━━━━━━\u001b[0m\u001b[37m\u001b[0m \u001b[1m0s\u001b[0m 10ms/step - accuracy: 0.6563 - loss: 1.2482 - val_accuracy: 0.0592 - val_loss: 10.6929\n",
            "Epoch 58/100\n",
            "\u001b[1m43/43\u001b[0m \u001b[32m━━━━━━━━━━━━━━━━━━━━\u001b[0m\u001b[37m\u001b[0m \u001b[1m0s\u001b[0m 9ms/step - accuracy: 0.6687 - loss: 1.2614 - val_accuracy: 0.0592 - val_loss: 10.7280\n",
            "Epoch 59/100\n",
            "\u001b[1m43/43\u001b[0m \u001b[32m━━━━━━━━━━━━━━━━━━━━\u001b[0m\u001b[37m\u001b[0m \u001b[1m0s\u001b[0m 10ms/step - accuracy: 0.6765 - loss: 1.2376 - val_accuracy: 0.0592 - val_loss: 10.7168\n",
            "Epoch 60/100\n",
            "\u001b[1m43/43\u001b[0m \u001b[32m━━━━━━━━━━━━━━━━━━━━\u001b[0m\u001b[37m\u001b[0m \u001b[1m1s\u001b[0m 9ms/step - accuracy: 0.7098 - loss: 1.1469 - val_accuracy: 0.0651 - val_loss: 11.0588\n",
            "Epoch 61/100\n",
            "\u001b[1m43/43\u001b[0m \u001b[32m━━━━━━━━━━━━━━━━━━━━\u001b[0m\u001b[37m\u001b[0m \u001b[1m0s\u001b[0m 10ms/step - accuracy: 0.6956 - loss: 1.1932 - val_accuracy: 0.0710 - val_loss: 10.5696\n",
            "Epoch 62/100\n",
            "\u001b[1m43/43\u001b[0m \u001b[32m━━━━━━━━━━━━━━━━━━━━\u001b[0m\u001b[37m\u001b[0m \u001b[1m0s\u001b[0m 9ms/step - accuracy: 0.7146 - loss: 1.1054 - val_accuracy: 0.0562 - val_loss: 10.8986\n",
            "Epoch 63/100\n",
            "\u001b[1m43/43\u001b[0m \u001b[32m━━━━━━━━━━━━━━━━━━━━\u001b[0m\u001b[37m\u001b[0m \u001b[1m0s\u001b[0m 11ms/step - accuracy: 0.7107 - loss: 1.0799 - val_accuracy: 0.0621 - val_loss: 10.9699\n",
            "Epoch 64/100\n",
            "\u001b[1m43/43\u001b[0m \u001b[32m━━━━━━━━━━━━━━━━━━━━\u001b[0m\u001b[37m\u001b[0m \u001b[1m0s\u001b[0m 9ms/step - accuracy: 0.7431 - loss: 1.0179 - val_accuracy: 0.0621 - val_loss: 10.8513\n",
            "Epoch 65/100\n",
            "\u001b[1m43/43\u001b[0m \u001b[32m━━━━━━━━━━━━━━━━━━━━\u001b[0m\u001b[37m\u001b[0m \u001b[1m1s\u001b[0m 9ms/step - accuracy: 0.7188 - loss: 1.0111 - val_accuracy: 0.0621 - val_loss: 10.9723\n",
            "Epoch 66/100\n",
            "\u001b[1m43/43\u001b[0m \u001b[32m━━━━━━━━━━━━━━━━━━━━\u001b[0m\u001b[37m\u001b[0m \u001b[1m1s\u001b[0m 13ms/step - accuracy: 0.7622 - loss: 0.9666 - val_accuracy: 0.0651 - val_loss: 11.0395\n",
            "Epoch 67/100\n",
            "\u001b[1m43/43\u001b[0m \u001b[32m━━━━━━━━━━━━━━━━━━━━\u001b[0m\u001b[37m\u001b[0m \u001b[1m1s\u001b[0m 14ms/step - accuracy: 0.7187 - loss: 1.0601 - val_accuracy: 0.0592 - val_loss: 10.8863\n",
            "Epoch 68/100\n",
            "\u001b[1m43/43\u001b[0m \u001b[32m━━━━━━━━━━━━━━━━━━━━\u001b[0m\u001b[37m\u001b[0m \u001b[1m1s\u001b[0m 16ms/step - accuracy: 0.7493 - loss: 0.9295 - val_accuracy: 0.0562 - val_loss: 10.8828\n",
            "Epoch 69/100\n",
            "\u001b[1m43/43\u001b[0m \u001b[32m━━━━━━━━━━━━━━━━━━━━\u001b[0m\u001b[37m\u001b[0m \u001b[1m1s\u001b[0m 10ms/step - accuracy: 0.7683 - loss: 0.9064 - val_accuracy: 0.0621 - val_loss: 11.0274\n",
            "Epoch 70/100\n",
            "\u001b[1m43/43\u001b[0m \u001b[32m━━━━━━━━━━━━━━━━━━━━\u001b[0m\u001b[37m\u001b[0m \u001b[1m1s\u001b[0m 10ms/step - accuracy: 0.7653 - loss: 0.9023 - val_accuracy: 0.0651 - val_loss: 10.8480\n",
            "Epoch 71/100\n",
            "\u001b[1m43/43\u001b[0m \u001b[32m━━━━━━━━━━━━━━━━━━━━\u001b[0m\u001b[37m\u001b[0m \u001b[1m1s\u001b[0m 9ms/step - accuracy: 0.7567 - loss: 0.9200 - val_accuracy: 0.0710 - val_loss: 11.0379\n",
            "Epoch 72/100\n",
            "\u001b[1m43/43\u001b[0m \u001b[32m━━━━━━━━━━━━━━━━━━━━\u001b[0m\u001b[37m\u001b[0m \u001b[1m1s\u001b[0m 10ms/step - accuracy: 0.7604 - loss: 0.9147 - val_accuracy: 0.0562 - val_loss: 10.9606\n",
            "Epoch 73/100\n",
            "\u001b[1m43/43\u001b[0m \u001b[32m━━━━━━━━━━━━━━━━━━━━\u001b[0m\u001b[37m\u001b[0m \u001b[1m1s\u001b[0m 11ms/step - accuracy: 0.7642 - loss: 0.8945 - val_accuracy: 0.0562 - val_loss: 10.9572\n",
            "Epoch 74/100\n",
            "\u001b[1m43/43\u001b[0m \u001b[32m━━━━━━━━━━━━━━━━━━━━\u001b[0m\u001b[37m\u001b[0m \u001b[1m0s\u001b[0m 10ms/step - accuracy: 0.7799 - loss: 0.8867 - val_accuracy: 0.0651 - val_loss: 11.1895\n",
            "Epoch 75/100\n",
            "\u001b[1m43/43\u001b[0m \u001b[32m━━━━━━━━━━━━━━━━━━━━\u001b[0m\u001b[37m\u001b[0m \u001b[1m0s\u001b[0m 9ms/step - accuracy: 0.7934 - loss: 0.7878 - val_accuracy: 0.0592 - val_loss: 11.0412\n",
            "Epoch 76/100\n",
            "\u001b[1m43/43\u001b[0m \u001b[32m━━━━━━━━━━━━━━━━━━━━\u001b[0m\u001b[37m\u001b[0m \u001b[1m0s\u001b[0m 9ms/step - accuracy: 0.7927 - loss: 0.7916 - val_accuracy: 0.0592 - val_loss: 11.1213\n",
            "Epoch 77/100\n",
            "\u001b[1m43/43\u001b[0m \u001b[32m━━━━━━━━━━━━━━━━━━━━\u001b[0m\u001b[37m\u001b[0m \u001b[1m1s\u001b[0m 9ms/step - accuracy: 0.7804 - loss: 0.7997 - val_accuracy: 0.0592 - val_loss: 11.1449\n",
            "Epoch 78/100\n",
            "\u001b[1m43/43\u001b[0m \u001b[32m━━━━━━━━━━━━━━━━━━━━\u001b[0m\u001b[37m\u001b[0m \u001b[1m0s\u001b[0m 9ms/step - accuracy: 0.7776 - loss: 0.8015 - val_accuracy: 0.0533 - val_loss: 11.3024\n",
            "Epoch 79/100\n",
            "\u001b[1m43/43\u001b[0m \u001b[32m━━━━━━━━━━━━━━━━━━━━\u001b[0m\u001b[37m\u001b[0m \u001b[1m0s\u001b[0m 10ms/step - accuracy: 0.8112 - loss: 0.7668 - val_accuracy: 0.0562 - val_loss: 10.9974\n",
            "Epoch 80/100\n",
            "\u001b[1m43/43\u001b[0m \u001b[32m━━━━━━━━━━━━━━━━━━━━\u001b[0m\u001b[37m\u001b[0m \u001b[1m0s\u001b[0m 10ms/step - accuracy: 0.7814 - loss: 0.7783 - val_accuracy: 0.0562 - val_loss: 11.3237\n",
            "Epoch 81/100\n",
            "\u001b[1m43/43\u001b[0m \u001b[32m━━━━━━━━━━━━━━━━━━━━\u001b[0m\u001b[37m\u001b[0m \u001b[1m0s\u001b[0m 10ms/step - accuracy: 0.8190 - loss: 0.7203 - val_accuracy: 0.0621 - val_loss: 11.0920\n",
            "Epoch 82/100\n",
            "\u001b[1m43/43\u001b[0m \u001b[32m━━━━━━━━━━━━━━━━━━━━\u001b[0m\u001b[37m\u001b[0m \u001b[1m0s\u001b[0m 10ms/step - accuracy: 0.7959 - loss: 0.7369 - val_accuracy: 0.0621 - val_loss: 11.1873\n",
            "Epoch 83/100\n",
            "\u001b[1m43/43\u001b[0m \u001b[32m━━━━━━━━━━━━━━━━━━━━\u001b[0m\u001b[37m\u001b[0m \u001b[1m1s\u001b[0m 10ms/step - accuracy: 0.7958 - loss: 0.7199 - val_accuracy: 0.0562 - val_loss: 11.4168\n",
            "Epoch 84/100\n",
            "\u001b[1m43/43\u001b[0m \u001b[32m━━━━━━━━━━━━━━━━━━━━\u001b[0m\u001b[37m\u001b[0m \u001b[1m1s\u001b[0m 10ms/step - accuracy: 0.8120 - loss: 0.6649 - val_accuracy: 0.0621 - val_loss: 11.2851\n",
            "Epoch 85/100\n",
            "\u001b[1m43/43\u001b[0m \u001b[32m━━━━━━━━━━━━━━━━━━━━\u001b[0m\u001b[37m\u001b[0m \u001b[1m1s\u001b[0m 10ms/step - accuracy: 0.7948 - loss: 0.6897 - val_accuracy: 0.0621 - val_loss: 11.4061\n",
            "Epoch 86/100\n",
            "\u001b[1m43/43\u001b[0m \u001b[32m━━━━━━━━━━━━━━━━━━━━\u001b[0m\u001b[37m\u001b[0m \u001b[1m0s\u001b[0m 10ms/step - accuracy: 0.8403 - loss: 0.6267 - val_accuracy: 0.0621 - val_loss: 11.1873\n",
            "Epoch 87/100\n",
            "\u001b[1m43/43\u001b[0m \u001b[32m━━━━━━━━━━━━━━━━━━━━\u001b[0m\u001b[37m\u001b[0m \u001b[1m1s\u001b[0m 14ms/step - accuracy: 0.8339 - loss: 0.6362 - val_accuracy: 0.0680 - val_loss: 11.2917\n",
            "Epoch 88/100\n",
            "\u001b[1m43/43\u001b[0m \u001b[32m━━━━━━━━━━━━━━━━━━━━\u001b[0m\u001b[37m\u001b[0m \u001b[1m1s\u001b[0m 16ms/step - accuracy: 0.8148 - loss: 0.6765 - val_accuracy: 0.0621 - val_loss: 11.2259\n",
            "Epoch 89/100\n",
            "\u001b[1m43/43\u001b[0m \u001b[32m━━━━━━━━━━━━━━━━━━━━\u001b[0m\u001b[37m\u001b[0m \u001b[1m1s\u001b[0m 10ms/step - accuracy: 0.8251 - loss: 0.6087 - val_accuracy: 0.0651 - val_loss: 11.4966\n",
            "Epoch 90/100\n",
            "\u001b[1m43/43\u001b[0m \u001b[32m━━━━━━━━━━━━━━━━━━━━\u001b[0m\u001b[37m\u001b[0m \u001b[1m1s\u001b[0m 12ms/step - accuracy: 0.8291 - loss: 0.6107 - val_accuracy: 0.0651 - val_loss: 11.4257\n",
            "Epoch 91/100\n",
            "\u001b[1m43/43\u001b[0m \u001b[32m━━━━━━━━━━━━━━━━━━━━\u001b[0m\u001b[37m\u001b[0m \u001b[1m1s\u001b[0m 10ms/step - accuracy: 0.8502 - loss: 0.5699 - val_accuracy: 0.0621 - val_loss: 11.5479\n",
            "Epoch 92/100\n",
            "\u001b[1m43/43\u001b[0m \u001b[32m━━━━━━━━━━━━━━━━━━━━\u001b[0m\u001b[37m\u001b[0m \u001b[1m1s\u001b[0m 10ms/step - accuracy: 0.8405 - loss: 0.6274 - val_accuracy: 0.0651 - val_loss: 11.4979\n",
            "Epoch 93/100\n",
            "\u001b[1m43/43\u001b[0m \u001b[32m━━━━━━━━━━━━━━━━━━━━\u001b[0m\u001b[37m\u001b[0m \u001b[1m0s\u001b[0m 10ms/step - accuracy: 0.8516 - loss: 0.5377 - val_accuracy: 0.0621 - val_loss: 11.3125\n",
            "Epoch 94/100\n",
            "\u001b[1m43/43\u001b[0m \u001b[32m━━━━━━━━━━━━━━━━━━━━\u001b[0m\u001b[37m\u001b[0m \u001b[1m1s\u001b[0m 10ms/step - accuracy: 0.8290 - loss: 0.6283 - val_accuracy: 0.0680 - val_loss: 11.3313\n",
            "Epoch 95/100\n",
            "\u001b[1m43/43\u001b[0m \u001b[32m━━━━━━━━━━━━━━━━━━━━\u001b[0m\u001b[37m\u001b[0m \u001b[1m0s\u001b[0m 10ms/step - accuracy: 0.8344 - loss: 0.5903 - val_accuracy: 0.0680 - val_loss: 11.5303\n",
            "Epoch 96/100\n",
            "\u001b[1m43/43\u001b[0m \u001b[32m━━━━━━━━━━━━━━━━━━━━\u001b[0m\u001b[37m\u001b[0m \u001b[1m0s\u001b[0m 10ms/step - accuracy: 0.8266 - loss: 0.5657 - val_accuracy: 0.0680 - val_loss: 11.3953\n",
            "Epoch 97/100\n",
            "\u001b[1m43/43\u001b[0m \u001b[32m━━━━━━━━━━━━━━━━━━━━\u001b[0m\u001b[37m\u001b[0m \u001b[1m1s\u001b[0m 10ms/step - accuracy: 0.8372 - loss: 0.5969 - val_accuracy: 0.0680 - val_loss: 11.4469\n",
            "Epoch 98/100\n",
            "\u001b[1m43/43\u001b[0m \u001b[32m━━━━━━━━━━━━━━━━━━━━\u001b[0m\u001b[37m\u001b[0m \u001b[1m0s\u001b[0m 10ms/step - accuracy: 0.8331 - loss: 0.5794 - val_accuracy: 0.0651 - val_loss: 11.5470\n",
            "Epoch 99/100\n",
            "\u001b[1m43/43\u001b[0m \u001b[32m━━━━━━━━━━━━━━━━━━━━\u001b[0m\u001b[37m\u001b[0m \u001b[1m0s\u001b[0m 9ms/step - accuracy: 0.8295 - loss: 0.5711 - val_accuracy: 0.0592 - val_loss: 11.3605\n",
            "Epoch 100/100\n",
            "\u001b[1m43/43\u001b[0m \u001b[32m━━━━━━━━━━━━━━━━━━━━\u001b[0m\u001b[37m\u001b[0m \u001b[1m0s\u001b[0m 10ms/step - accuracy: 0.8459 - loss: 0.5230 - val_accuracy: 0.0680 - val_loss: 11.6031\n"
          ]
        }
      ]
    },
    {
      "cell_type": "code",
      "source": [
        "import matplotlib.pyplot as plt"
      ],
      "metadata": {
        "id": "uLb_SWaHHIT6"
      },
      "execution_count": 147,
      "outputs": []
    },
    {
      "cell_type": "code",
      "source": [
        "plt.plot(history.history['accuracy'])\n",
        "plt.plot(history.history['val_accuracy'])\n",
        "plt.plot(history.history['loss'])\n",
        "plt.plot(history.history['val_loss'])"
      ],
      "metadata": {
        "colab": {
          "base_uri": "https://localhost:8080/",
          "height": 447
        },
        "id": "g2pDDxDUKbSE",
        "outputId": "2b49cc9d-217d-4e07-d407-3383ae61eb40"
      },
      "execution_count": 148,
      "outputs": [
        {
          "output_type": "execute_result",
          "data": {
            "text/plain": [
              "[<matplotlib.lines.Line2D at 0x7961045993d0>]"
            ]
          },
          "metadata": {},
          "execution_count": 148
        },
        {
          "output_type": "display_data",
          "data": {
            "text/plain": [
              "<Figure size 640x480 with 1 Axes>"
            ],
            "image/png": "[encoded data removed]"
          },
          "metadata": {}
        }
      ]
    },
    {
      "cell_type": "code",
      "source": [
        "import time\n",
        "text = \"lstm\"\n",
        "\n",
        "for i in range(10):\n",
        "  # tokenize\n",
        "  token_text = tokenizer.texts_to_sequences([text])[0]\n",
        "  # padding\n",
        "  padded_token_text = pad_sequences([token_text], maxlen=56, padding='pre')\n",
        "  # predict\n",
        "  pos = np.argmax(model.predict(padded_token_text))\n",
        "\n",
        "  for word,index in tokenizer.word_index.items():\n",
        "    if index == pos:\n",
        "      text = text + \" \" + word\n",
        "      print(text)\n",
        "      time.sleep(1)"
      ],
      "metadata": {
        "colab": {
          "base_uri": "https://localhost:8080/"
        },
        "id": "4fDgJTw-KqiU",
        "outputId": "a578fcc3-0e0a-4696-c543-b0389942ae18"
      },
      "execution_count": 150,
      "outputs": [
        {
          "output_type": "stream",
          "name": "stdout",
          "text": [
            "\u001b[1m1/1\u001b[0m \u001b[32m━━━━━━━━━━━━━━━━━━━━\u001b[0m\u001b[37m\u001b[0m \u001b[1m0s\u001b[0m 36ms/step\n",
            "lstm analysis\n",
            "\u001b[1m1/1\u001b[0m \u001b[32m━━━━━━━━━━━━━━━━━━━━\u001b[0m\u001b[37m\u001b[0m \u001b[1m0s\u001b[0m 31ms/step\n",
            "lstm analysis or\n",
            "\u001b[1m1/1\u001b[0m \u001b[32m━━━━━━━━━━━━━━━━━━━━\u001b[0m\u001b[37m\u001b[0m \u001b[1m0s\u001b[0m 31ms/step\n",
            "lstm analysis or networks\n",
            "\u001b[1m1/1\u001b[0m \u001b[32m━━━━━━━━━━━━━━━━━━━━\u001b[0m\u001b[37m\u001b[0m \u001b[1m0s\u001b[0m 32ms/step\n",
            "lstm analysis or networks techniques\n",
            "\u001b[1m1/1\u001b[0m \u001b[32m━━━━━━━━━━━━━━━━━━━━\u001b[0m\u001b[37m\u001b[0m \u001b[1m0s\u001b[0m 34ms/step\n",
            "lstm analysis or networks techniques to\n",
            "\u001b[1m1/1\u001b[0m \u001b[32m━━━━━━━━━━━━━━━━━━━━\u001b[0m\u001b[37m\u001b[0m \u001b[1m0s\u001b[0m 33ms/step\n",
            "lstm analysis or networks techniques to overcome\n",
            "\u001b[1m1/1\u001b[0m \u001b[32m━━━━━━━━━━━━━━━━━━━━\u001b[0m\u001b[37m\u001b[0m \u001b[1m0s\u001b[0m 33ms/step\n",
            "lstm analysis or networks techniques to overcome neurons\n",
            "\u001b[1m1/1\u001b[0m \u001b[32m━━━━━━━━━━━━━━━━━━━━\u001b[0m\u001b[37m\u001b[0m \u001b[1m0s\u001b[0m 34ms/step\n",
            "lstm analysis or networks techniques to overcome neurons gated\n",
            "\u001b[1m1/1\u001b[0m \u001b[32m━━━━━━━━━━━━━━━━━━━━\u001b[0m\u001b[37m\u001b[0m \u001b[1m0s\u001b[0m 60ms/step\n",
            "lstm analysis or networks techniques to overcome neurons gated the\n",
            "\u001b[1m1/1\u001b[0m \u001b[32m━━━━━━━━━━━━━━━━━━━━\u001b[0m\u001b[37m\u001b[0m \u001b[1m0s\u001b[0m 32ms/step\n",
            "lstm analysis or networks techniques to overcome neurons gated the units\n"
          ]
        }
      ]
    }
  ]
}