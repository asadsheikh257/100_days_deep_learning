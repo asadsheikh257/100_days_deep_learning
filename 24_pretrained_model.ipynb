{
  "nbformat": 4,
  "nbformat_minor": 0,
  "metadata": {
    "colab": {
      "provenance": [],
      "gpuType": "V28"
    },
    "kernelspec": {
      "name": "python3",
      "display_name": "Python 3"
    },
    "language_info": {
      "name": "python"
    },
    "accelerator": "TPU"
  },
  "cells": [
    {
      "cell_type": "code",
      "source": [
        "import tensorflow as tf\n",
        "from tensorflow.keras.preprocessing import image\n",
        "from tensorflow.keras.applications.resnet50 import ResNet50, preprocess_input, decode_predictions\n",
        "import numpy as np\n",
        "\n",
        "# Load pre-trained ResNet50 model\n",
        "model = ResNet50(weights='imagenet')\n",
        "\n",
        "# Load and preprocess the image\n",
        "img_path = '/content/glass.jpg'  # Replace with your image path\n",
        "img = image.load_img(img_path, target_size=(224, 224))  # Resize to 224x224\n",
        "img_array = image.img_to_array(img)\n",
        "img_array = np.expand_dims(img_array, axis=0)  # Add batch dimension\n",
        "img_array = preprocess_input(img_array)  # Preprocess for ResNet50\n",
        "\n",
        "# Make prediction\n",
        "preds = model.predict(img_array)\n",
        "\n",
        "# Decode and display the top 3 predictions\n",
        "decoded_preds = decode_predictions(preds, top=3)[0]\n",
        "for i, (imagenet_id, label, score) in enumerate(decoded_preds):\n",
        "    print(f\"{i+1}: {label} ({score:.2f})\")\n"
      ],
      "metadata": {
        "colab": {
          "base_uri": "https://localhost:8080/"
        },
        "id": "NfMx10EY_G7_",
        "outputId": "17488ca6-7751-41ba-ee7d-ae01a4065814"
      },
      "execution_count": 3,
      "outputs": [
        {
          "output_type": "stream",
          "name": "stdout",
          "text": [
            "\u001b[1m1/1\u001b[0m \u001b[32m━━━━━━━━━━━━━━━━━━━━\u001b[0m\u001b[37m\u001b[0m \u001b[1m2s\u001b[0m 2s/step\n",
            "1: beer_glass (0.56)\n",
            "2: red_wine (0.24)\n",
            "3: goblet (0.19)\n"
          ]
        }
      ]
    }
  ]
}