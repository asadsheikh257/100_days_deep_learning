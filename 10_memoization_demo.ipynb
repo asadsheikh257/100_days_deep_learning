{
  "nbformat": 4,
  "nbformat_minor": 0,
  "metadata": {
    "colab": {
      "provenance": [],
      "gpuType": "V28"
    },
    "kernelspec": {
      "name": "python3",
      "display_name": "Python 3"
    },
    "language_info": {
      "name": "python"
    },
    "accelerator": "TPU"
  },
  "cells": [
    {
      "cell_type": "code",
      "execution_count": 35,
      "metadata": {
        "id": "sQmfESwakW9t"
      },
      "outputs": [],
      "source": [
        "# fib\n",
        "def fib(n):\n",
        "  if n == 1 or n == 0:\n",
        "    return 1\n",
        "  else:\n",
        "    return fib(n-1) + fib(n-2)"
      ]
    },
    {
      "cell_type": "code",
      "source": [
        "import time\n",
        "start = time.time()\n",
        "fib(40)\n",
        "print(time.time()-start)"
      ],
      "metadata": {
        "colab": {
          "base_uri": "https://localhost:8080/"
        },
        "id": "3LQ8g9mNk6m5",
        "outputId": "7f4ca129-e02e-48a9-89d9-5a39245ea2a9"
      },
      "execution_count": 36,
      "outputs": [
        {
          "output_type": "stream",
          "name": "stdout",
          "text": [
            "18.936822414398193\n"
          ]
        }
      ]
    },
    {
      "cell_type": "code",
      "source": [
        "# using cache\n",
        "d = {0:1, 1:1}\n",
        "\n",
        "def fib_cache(n, d):\n",
        "  if n in d:\n",
        "    return d[n]\n",
        "  else:\n",
        "    d[n] = fib_cache(n-1, d) + fib_cache(n-2, d)\n",
        "    return d[n]"
      ],
      "metadata": {
        "id": "5ZFL7aQ1k72K"
      },
      "execution_count": 37,
      "outputs": []
    },
    {
      "cell_type": "code",
      "source": [
        "import time\n",
        "start = time.time()\n",
        "fib_cache(100,d)\n",
        "print(time.time()-start)"
      ],
      "metadata": {
        "colab": {
          "base_uri": "https://localhost:8080/"
        },
        "id": "h-tbFatFKa3P",
        "outputId": "9a4022e8-8c93-4eb4-ff85-b14c73d1d018"
      },
      "execution_count": 41,
      "outputs": [
        {
          "output_type": "stream",
          "name": "stdout",
          "text": [
            "6.318092346191406e-05\n"
          ]
        }
      ]
    },
    {
      "cell_type": "code",
      "source": [],
      "metadata": {
        "id": "FZUTlaTXKl7g"
      },
      "execution_count": 38,
      "outputs": []
    }
  ]
}